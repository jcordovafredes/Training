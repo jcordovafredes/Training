{
 "cells": [
  {
   "cell_type": "code",
   "execution_count": 1,
   "id": "305e9bec",
   "metadata": {},
   "outputs": [
    {
     "name": "stdout",
     "output_type": "stream",
     "text": [
      "Enter city name : Santiago\n"
     ]
    },
    {
     "ename": "KeyError",
     "evalue": "'main'",
     "output_type": "error",
     "traceback": [
      "\u001b[1;31m---------------------------------------------------------------------------\u001b[0m",
      "\u001b[1;31mKeyError\u001b[0m                                  Traceback (most recent call last)",
      "\u001b[1;32m<ipython-input-1-2ad1818ea8a0>\u001b[0m in \u001b[0;36m<module>\u001b[1;34m\u001b[0m\n\u001b[0;32m     36\u001b[0m         \u001b[1;31m# store the value of \"main\"\u001b[0m\u001b[1;33m\u001b[0m\u001b[1;33m\u001b[0m\u001b[1;33m\u001b[0m\u001b[0m\n\u001b[0;32m     37\u001b[0m         \u001b[1;31m# key in variable y\u001b[0m\u001b[1;33m\u001b[0m\u001b[1;33m\u001b[0m\u001b[1;33m\u001b[0m\u001b[0m\n\u001b[1;32m---> 38\u001b[1;33m         \u001b[0my\u001b[0m \u001b[1;33m=\u001b[0m \u001b[0mx\u001b[0m\u001b[1;33m[\u001b[0m\u001b[1;34m\"main\"\u001b[0m\u001b[1;33m]\u001b[0m\u001b[1;33m\u001b[0m\u001b[1;33m\u001b[0m\u001b[0m\n\u001b[0m\u001b[0;32m     39\u001b[0m \u001b[1;33m\u001b[0m\u001b[0m\n\u001b[0;32m     40\u001b[0m         \u001b[1;31m# store the value corresponding\u001b[0m\u001b[1;33m\u001b[0m\u001b[1;33m\u001b[0m\u001b[1;33m\u001b[0m\u001b[0m\n",
      "\u001b[1;31mKeyError\u001b[0m: 'main'"
     ]
    }
   ],
   "source": [
    "# Python program to find current\n",
    "# weather details of any city\n",
    "# using openweathermap api\n",
    "\n",
    "# import required modules\n",
    "import requests, json\n",
    "\n",
    "# Enter your API key here\n",
    "api_key = \"Your_API_Key\"\n",
    "\n",
    "# base_url variable to store url\n",
    "base_url = \"http://api.openweathermap.org/data/2.5/weather?\"\n",
    "\n",
    "# Give city name\n",
    "city_name = input(\"Enter city name : \")\n",
    "\n",
    "# complete_url variable to store\n",
    "# complete url address\n",
    "complete_url = base_url + \"appid=\" + api_key + \"&q=\" + city_name\n",
    "\n",
    "# get method of requests module\n",
    "# return response object\n",
    "response = requests.get(complete_url)\n",
    "\n",
    "# json method of response object\n",
    "# convert json format data into\n",
    "# python format data\n",
    "x = response.json()\n",
    "\n",
    "# Now x contains list of nested dictionaries\n",
    "# Check the value of \"cod\" key is equal to\n",
    "# \"404\", means city is found otherwise,\n",
    "# city is not found\n",
    "if x[\"cod\"] != \"404\":\n",
    "\n",
    "\t# store the value of \"main\"\n",
    "\t# key in variable y\n",
    "\ty = x[\"main\"]\n",
    "\n",
    "\t# store the value corresponding\n",
    "\t# to the \"temp\" key of y\n",
    "\tcurrent_temperature = y[\"temp\"]\n",
    "\n",
    "\t# store the value corresponding\n",
    "\t# to the \"pressure\" key of y\n",
    "\tcurrent_pressure = y[\"pressure\"]\n",
    "\n",
    "\t# store the value corresponding\n",
    "\t# to the \"humidity\" key of y\n",
    "\tcurrent_humidity = y[\"humidity\"]\n",
    "\n",
    "\t# store the value of \"weather\"\n",
    "\t# key in variable z\n",
    "\tz = x[\"weather\"]\n",
    "\n",
    "\t# store the value corresponding\n",
    "\t# to the \"description\" key at\n",
    "\t# the 0th index of z\n",
    "\tweather_description = z[0][\"description\"]\n",
    "\n",
    "\t# print following values\n",
    "\tprint(\" Temperature (in kelvin unit) = \" +\n",
    "\t\t\t\t\tstr(current_temperature) +\n",
    "\t\t\"\\n atmospheric pressure (in hPa unit) = \" +\n",
    "\t\t\t\t\tstr(current_pressure) +\n",
    "\t\t\"\\n humidity (in percentage) = \" +\n",
    "\t\t\t\t\tstr(current_humidity) +\n",
    "\t\t\"\\n description = \" +\n",
    "\t\t\t\t\tstr(weather_description))\n",
    "\n",
    "else:\n",
    "\tprint(\" City Not Found \")\n"
   ]
  },
  {
   "cell_type": "code",
   "execution_count": null,
   "id": "4f5d0cf3",
   "metadata": {},
   "outputs": [],
   "source": []
  }
 ],
 "metadata": {
  "kernelspec": {
   "display_name": "Python 3",
   "language": "python",
   "name": "python3"
  },
  "language_info": {
   "codemirror_mode": {
    "name": "ipython",
    "version": 3
   },
   "file_extension": ".py",
   "mimetype": "text/x-python",
   "name": "python",
   "nbconvert_exporter": "python",
   "pygments_lexer": "ipython3",
   "version": "3.8.10"
  }
 },
 "nbformat": 4,
 "nbformat_minor": 5
}
