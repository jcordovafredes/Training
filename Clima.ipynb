{
 "cells": [
  {
   "cell_type": "code",
   "execution_count": 3,
   "id": "8fb2e9c7",
   "metadata": {},
   "outputs": [],
   "source": [
    "import requests\n",
    "from tkinter import *\n",
    "import math\n",
    "\n",
    "city_name = \"Santiago\"\n",
    "api_key = \"ac95bade49389ac6dbf8e490da038c38\"\n",
    "\n",
    "def get_weather(api_key, city):\n",
    "    url = f\"http://api.openweathermap.org/data/2.5/weather?q={city}&appid={api_key}\"\n",
    "\n",
    "    response = requests.get(url).json()\n",
    "\n",
    "    temp = response['main']['temp']\n",
    "    temp = math.floor((temp * 1.8) - 459.67)  # Convert to °F\n",
    "\n",
    "    feels_like = response['main']['feels_like']\n",
    "    feels_like = math.floor((feels_like * 1.8) - 459.67)  # Convert to °F\n",
    "\n",
    "    humidity = response['main']['humidity']\n",
    "    \n",
    "    return {\n",
    "        'temp': temp,\n",
    "        'feels_like': feels_like,\n",
    "        'humidity': humidity\n",
    "    }\n",
    "\n",
    "weather = get_weather(api_key, city_name)\n",
    "\n",
    "root = Tk()\n",
    "root.geometry(\"300x300\")\n",
    "root.title(f'{city_name[:-3]} Weather')\n",
    "\n",
    "def display_city_name(city):\n",
    "    city_label = Label(root, text=f\"{city_name[:-3]}\")\n",
    "    city_label.config(font=(\"Consolas\", 28))\n",
    "    city_label.pack(side='top')\n",
    "\n",
    "def display_stats(weather):\n",
    "    temp = Label(root, text=f\"Temperature: {weather['temp']} F\")\n",
    "    feels_like = Label(root, text=f\"Feels Like: {weather['feels_like']} F\")\n",
    "    humidity = Label(root, text=f\"Humidity: {weather['humidity']} %\")\n",
    "\n",
    "    temp.config(font=(\"Consolas\", 22))\n",
    "    feels_like.config(font=(\"Consolas\", 16))\n",
    "    humidity.config(font=(\"Consolas\", 16))\n",
    "\n",
    "    temp.pack(side='top')\n",
    "    feels_like.pack(side='top')\n",
    "    humidity.pack(side='top')\n",
    "\n",
    "\n",
    "display_city_name(city_name)\n",
    "display_stats(weather)\n",
    "\n",
    "mainloop()"
   ]
  },
  {
   "cell_type": "code",
   "execution_count": null,
   "id": "5a1f632c",
   "metadata": {},
   "outputs": [],
   "source": []
  }
 ],
 "metadata": {
  "kernelspec": {
   "display_name": "Python 3",
   "language": "python",
   "name": "python3"
  },
  "language_info": {
   "codemirror_mode": {
    "name": "ipython",
    "version": 3
   },
   "file_extension": ".py",
   "mimetype": "text/x-python",
   "name": "python",
   "nbconvert_exporter": "python",
   "pygments_lexer": "ipython3",
   "version": "3.8.10"
  }
 },
 "nbformat": 4,
 "nbformat_minor": 5
}
