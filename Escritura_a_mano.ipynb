{
 "cells": [
  {
   "cell_type": "code",
   "execution_count": 5,
   "id": "d35675bd",
   "metadata": {},
   "outputs": [
    {
     "name": "stdout",
     "output_type": "stream",
     "text": [
      "Requirement already satisfied: pywhatkit in c:\\users\\jcord\\anaconda3\\lib\\site-packages (5.0)\n",
      "Requirement already satisfied: pyautogui in c:\\users\\jcord\\anaconda3\\lib\\site-packages (from pywhatkit) (0.9.53)\n",
      "Requirement already satisfied: Pillow in c:\\users\\jcord\\anaconda3\\lib\\site-packages (from pywhatkit) (8.2.0)\n",
      "Requirement already satisfied: wikipedia in c:\\users\\jcord\\anaconda3\\lib\\site-packages (from pywhatkit) (1.4.0)\n",
      "Requirement already satisfied: requests in c:\\users\\jcord\\anaconda3\\lib\\site-packages (from pywhatkit) (2.25.1)\n",
      "Requirement already satisfied: PyTweening>=1.0.1 in c:\\users\\jcord\\anaconda3\\lib\\site-packages (from pyautogui->pywhatkit) (1.0.3)\n",
      "Requirement already satisfied: pygetwindow>=0.0.5 in c:\\users\\jcord\\anaconda3\\lib\\site-packages (from pyautogui->pywhatkit) (0.0.9)\n",
      "Requirement already satisfied: pymsgbox in c:\\users\\jcord\\anaconda3\\lib\\site-packages (from pyautogui->pywhatkit) (1.0.9)\n",
      "Requirement already satisfied: mouseinfo in c:\\users\\jcord\\anaconda3\\lib\\site-packages (from pyautogui->pywhatkit) (0.1.3)\n",
      "Requirement already satisfied: pyscreeze>=0.1.21 in c:\\users\\jcord\\anaconda3\\lib\\site-packages (from pyautogui->pywhatkit) (0.1.27)\n",
      "Requirement already satisfied: pyrect in c:\\users\\jcord\\anaconda3\\lib\\site-packages (from pygetwindow>=0.0.5->pyautogui->pywhatkit) (0.1.4)\n",
      "Requirement already satisfied: pyperclip in c:\\users\\jcord\\anaconda3\\lib\\site-packages (from mouseinfo->pyautogui->pywhatkit) (1.8.2)\n",
      "Requirement already satisfied: chardet<5,>=3.0.2 in c:\\users\\jcord\\anaconda3\\lib\\site-packages (from requests->pywhatkit) (4.0.0)\n",
      "Requirement already satisfied: certifi>=2017.4.17 in c:\\users\\jcord\\anaconda3\\lib\\site-packages (from requests->pywhatkit) (2021.5.30)\n",
      "Requirement already satisfied: idna<3,>=2.5 in c:\\users\\jcord\\anaconda3\\lib\\site-packages (from requests->pywhatkit) (2.10)\n",
      "Requirement already satisfied: urllib3<1.27,>=1.21.1 in c:\\users\\jcord\\anaconda3\\lib\\site-packages (from requests->pywhatkit) (1.26.6)\n",
      "Requirement already satisfied: beautifulsoup4 in c:\\users\\jcord\\anaconda3\\lib\\site-packages (from wikipedia->pywhatkit) (4.9.3)\n",
      "Requirement already satisfied: soupsieve>1.2 in c:\\users\\jcord\\anaconda3\\lib\\site-packages (from beautifulsoup4->wikipedia->pywhatkit) (2.2.1)\n"
     ]
    }
   ],
   "source": [
    "!pip3 install pywhatkit"
   ]
  },
  {
   "cell_type": "code",
   "execution_count": 1,
   "id": "87f43b20",
   "metadata": {},
   "outputs": [],
   "source": [
    "import pywhatkit as kit"
   ]
  },
  {
   "cell_type": "code",
   "execution_count": 7,
   "id": "47773ce9",
   "metadata": {},
   "outputs": [
    {
     "ename": "AttributeError",
     "evalue": "module 'pywhatkit' has no attribute 'text_to_handwritting'",
     "output_type": "error",
     "traceback": [
      "\u001b[1;31m---------------------------------------------------------------------------\u001b[0m",
      "\u001b[1;31mAttributeError\u001b[0m                            Traceback (most recent call last)",
      "\u001b[1;32m<ipython-input-7-bc80c3c98d99>\u001b[0m in \u001b[0;36m<module>\u001b[1;34m\u001b[0m\n\u001b[1;32m----> 1\u001b[1;33m \u001b[0mkit\u001b[0m\u001b[1;33m.\u001b[0m\u001b[0mtext_to_handwritting\u001b[0m\u001b[1;33m(\u001b[0m\u001b[1;34m\"Hola, que tal, soy Sebastian.\"\u001b[0m\u001b[1;33m,\u001b[0m \u001b[0mrgb\u001b[0m\u001b[1;33m=\u001b[0m\u001b[1;33m(\u001b[0m\u001b[1;36m0\u001b[0m\u001b[1;33m,\u001b[0m\u001b[1;36m0\u001b[0m\u001b[1;33m,\u001b[0m\u001b[1;36m255\u001b[0m\u001b[1;33m)\u001b[0m\u001b[1;33m)\u001b[0m\u001b[1;33m\u001b[0m\u001b[1;33m\u001b[0m\u001b[0m\n\u001b[0m",
      "\u001b[1;31mAttributeError\u001b[0m: module 'pywhatkit' has no attribute 'text_to_handwritting'"
     ]
    }
   ],
   "source": [
    "#kit.text_to_handwritting(\"Hola, que tal, soy Sebastian.\", rgb=(0,0,255))"
   ]
  },
  {
   "cell_type": "code",
   "execution_count": 2,
   "id": "3423a297",
   "metadata": {},
   "outputs": [],
   "source": [
    "##En esta linea va el texto\n",
    "text= \"Mis pasos en esta calle Resuenan En otra calle Donde Oigo mis pasos Pasar en esta calle Donde Sólo es real la niebla.\""
   ]
  },
  {
   "cell_type": "code",
   "execution_count": 5,
   "id": "839abacb",
   "metadata": {},
   "outputs": [],
   "source": [
    "kit.text_to_handwriting(text)"
   ]
  },
  {
   "cell_type": "code",
   "execution_count": 7,
   "id": "61cf9f39",
   "metadata": {},
   "outputs": [],
   "source": [
    "##Aca se exporta el archivo en la ubicacion y formato deseado\n",
    "kit.text_to_handwriting(text, f'C:/Users/jcord/OneDrive/Escritorio/Codigos/converted.jpg')"
   ]
  }
 ],
 "metadata": {
  "kernelspec": {
   "display_name": "Python 3",
   "language": "python",
   "name": "python3"
  },
  "language_info": {
   "codemirror_mode": {
    "name": "ipython",
    "version": 3
   },
   "file_extension": ".py",
   "mimetype": "text/x-python",
   "name": "python",
   "nbconvert_exporter": "python",
   "pygments_lexer": "ipython3",
   "version": "3.8.10"
  }
 },
 "nbformat": 4,
 "nbformat_minor": 5
}
