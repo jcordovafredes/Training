{
 "cells": [
  {
   "cell_type": "code",
   "execution_count": 1,
   "id": "f13b197c",
   "metadata": {},
   "outputs": [],
   "source": [
    "#pip install opencv-python"
   ]
  },
  {
   "cell_type": "code",
   "execution_count": 2,
   "id": "de73c96c",
   "metadata": {},
   "outputs": [],
   "source": [
    "#pip install cvlib"
   ]
  },
  {
   "cell_type": "code",
   "execution_count": null,
   "id": "c2468493",
   "metadata": {},
   "outputs": [],
   "source": [
    "conda create -n tensorflow python=3.5"
   ]
  },
  {
   "cell_type": "code",
   "execution_count": null,
   "id": "d57d25ef",
   "metadata": {},
   "outputs": [],
   "source": [
    "activate tensorflow"
   ]
  },
  {
   "cell_type": "code",
   "execution_count": null,
   "id": "e871ba17",
   "metadata": {},
   "outputs": [],
   "source": [
    "pip install --ignore-installed --upgrade tensorflow"
   ]
  },
  {
   "cell_type": "code",
   "execution_count": null,
   "id": "bc7fb8bb",
   "metadata": {},
   "outputs": [],
   "source": [
    "import cv2"
   ]
  },
  {
   "cell_type": "code",
   "execution_count": null,
   "id": "fcd400ba",
   "metadata": {},
   "outputs": [],
   "source": [
    "import matplotlib.pyplot as plt"
   ]
  },
  {
   "cell_type": "code",
   "execution_count": null,
   "id": "e9b47be4",
   "metadata": {},
   "outputs": [],
   "source": [
    "import cvlib as cv"
   ]
  },
  {
   "cell_type": "code",
   "execution_count": null,
   "id": "15794218",
   "metadata": {},
   "outputs": [],
   "source": [
    "from cvlib.object_detection import draw_bbox"
   ]
  },
  {
   "cell_type": "code",
   "execution_count": null,
   "id": "b6fa9735",
   "metadata": {},
   "outputs": [],
   "source": [
    "im = cv2.imread(f'C:\\Users\\jcord\\OneDrive\\Escritorio\\Codigos\\'cars_image.jpeg'')"
   ]
  },
  {
   "cell_type": "code",
   "execution_count": null,
   "id": "2279294e",
   "metadata": {},
   "outputs": [],
   "source": [
    "bbox, label, conf = cvimagedetect_common_objects(im)"
   ]
  },
  {
   "cell_type": "code",
   "execution_count": null,
   "id": "06ec6cf7",
   "metadata": {},
   "outputs": [],
   "source": [
    "output_image = draw_bbox(im, bbox, label, conf)"
   ]
  },
  {
   "cell_type": "code",
   "execution_count": null,
   "id": "176f9c24",
   "metadata": {},
   "outputs": [],
   "source": [
    "plt.imshow(output_image)"
   ]
  },
  {
   "cell_type": "code",
   "execution_count": null,
   "id": "3615241a",
   "metadata": {},
   "outputs": [],
   "source": [
    "plt.show()"
   ]
  },
  {
   "cell_type": "code",
   "execution_count": null,
   "id": "10ad9e9f",
   "metadata": {},
   "outputs": [],
   "source": [
    "print('Number of cars in the image is '+\n",
    "     str(label.count('car')))"
   ]
  }
 ],
 "metadata": {
  "kernelspec": {
   "display_name": "Python 3",
   "language": "python",
   "name": "python3"
  },
  "language_info": {
   "codemirror_mode": {
    "name": "ipython",
    "version": 3
   },
   "file_extension": ".py",
   "mimetype": "text/x-python",
   "name": "python",
   "nbconvert_exporter": "python",
   "pygments_lexer": "ipython3",
   "version": "3.8.10"
  }
 },
 "nbformat": 4,
 "nbformat_minor": 5
}
