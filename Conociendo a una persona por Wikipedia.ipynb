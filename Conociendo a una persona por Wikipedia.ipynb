{
 "cells": [
  {
   "cell_type": "code",
   "execution_count": 1,
   "id": "be7b62c9",
   "metadata": {},
   "outputs": [],
   "source": [
    "#pip install Wikipedia"
   ]
  },
  {
   "cell_type": "code",
   "execution_count": 10,
   "id": "3fb09f0e",
   "metadata": {},
   "outputs": [],
   "source": [
    "import wikipedia\n",
    " = wikipedia.summary(\"jeffbezos\")"
   ]
  },
  {
   "cell_type": "code",
   "execution_count": null,
   "id": "b593d951",
   "metadata": {},
   "outputs": [],
   "source": [
    "#print(\"X\")"
   ]
  }
 ],
 "metadata": {
  "kernelspec": {
   "display_name": "Python 3",
   "language": "python",
   "name": "python3"
  },
  "language_info": {
   "codemirror_mode": {
    "name": "ipython",
    "version": 3
   },
   "file_extension": ".py",
   "mimetype": "text/x-python",
   "name": "python",
   "nbconvert_exporter": "python",
   "pygments_lexer": "ipython3",
   "version": "3.8.10"
  }
 },
 "nbformat": 4,
 "nbformat_minor": 5
}
