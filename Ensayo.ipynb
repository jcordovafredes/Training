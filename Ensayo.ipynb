{
 "cells": [
  {
   "cell_type": "code",
   "execution_count": 1,
   "metadata": {
    "id": "1yjgqQLy0om6"
   },
   "outputs": [],
   "source": [
    "import pandas as pd"
   ]
  },
  {
   "cell_type": "code",
   "execution_count": 2,
   "metadata": {
    "id": "qFhFj6400va4"
   },
   "outputs": [],
   "source": [
    "from_html = pd.read_html (\"https://en.wikipedia.org/wiki/List_of_FIFA_World_Cup_finals\")\n",
    "List_of_FIFA_world_Cup_finals = from_html[2]"
   ]
  },
  {
   "cell_type": "code",
   "execution_count": null,
   "metadata": {
    "colab": {
     "base_uri": "https://localhost:8080/"
    },
    "id": "L-Gu5zH_07yP",
    "outputId": "1829c979-47ec-46e4-d558-c9a6419fc717"
   },
   "outputs": [
    {
     "name": "stdout",
     "output_type": "stream",
     "text": [
      "               Year          Winners  ... Unnamed: 11 Unnamed: 12\n",
      "17             1998           France  ...         NaN         NaN\n",
      "18             2002           Brazil  ...         NaN         NaN\n",
      "19             2006            Italy  ...         NaN         NaN\n",
      "20             2010            Spain  ...         NaN         NaN\n",
      "21             2014          Germany  ...         NaN         NaN\n",
      "22             2018           France  ...         NaN         NaN\n",
      "23  Upcoming finals  Upcoming finals  ...         NaN         NaN\n",
      "24             Year        Finalists  ...         NaN         NaN\n",
      "25             2022              NaN  ...         NaN         NaN\n",
      "26             2026              NaN  ...         NaN         NaN\n",
      "\n",
      "[10 rows x 13 columns]\n",
      "<class 'pandas.core.frame.DataFrame'>\n",
      "RangeIndex: 27 entries, 0 to 26\n",
      "Data columns (total 13 columns):\n",
      " #   Column       Non-Null Count  Dtype \n",
      "---  ------       --------------  ----- \n",
      " 0   Year         27 non-null     object\n",
      " 1   Winners      25 non-null     object\n",
      " 2   Score[2]     27 non-null     object\n",
      " 3   Runners-up   25 non-null     object\n",
      " 4   Venue        27 non-null     object\n",
      " 5   Location     27 non-null     object\n",
      " 6   Attendance   25 non-null     object\n",
      " 7   Refs         25 non-null     object\n",
      " 8   Unnamed: 8   2 non-null      object\n",
      " 9   Unnamed: 9   2 non-null      object\n",
      " 10  Unnamed: 10  2 non-null      object\n",
      " 11  Unnamed: 11  2 non-null      object\n",
      " 12  Unnamed: 12  2 non-null      object\n",
      "dtypes: object(13)\n",
      "memory usage: 2.9+ KB\n"
     ]
    }
   ],
   "source": [
    "List_of_FIFA_world_Cup_finals.head(3)\n",
    "print (List_of_FIFA_world_Cup_finals.tail(10))\n",
    "List_of_FIFA_world_Cup_finals.info()"
   ]
  },
  {
   "cell_type": "code",
   "execution_count": null,
   "metadata": {
    "id": "kV4dOSeH65hY"
   },
   "outputs": [],
   "source": [
    "## Para montar el drive se ocupa la primera linea del script y se ingresa el codigo que pide el link que sale\n"
   ]
  },
  {
   "cell_type": "code",
   "execution_count": null,
   "metadata": {
    "colab": {
     "base_uri": "https://localhost:8080/"
    },
    "id": "J_3XNnJ830JY",
    "outputId": "d770aa3b-cfa1-4b04-fb3d-81209b6152cb"
   },
   "outputs": [
    {
     "name": "stdout",
     "output_type": "stream",
     "text": [
      "Mounted at /content/drive/\n"
     ]
    }
   ],
   "source": [
    "from google.colab import drive\n",
    "drive.mount(\"/content/drive/\")"
   ]
  },
  {
   "cell_type": "code",
   "execution_count": null,
   "metadata": {
    "id": "FRhDCAV08GCR"
   },
   "outputs": [],
   "source": [
    "## Para exportar en csv se utiliza el sgte script"
   ]
  },
  {
   "cell_type": "code",
   "execution_count": null,
   "metadata": {
    "id": "VZQs0cn49WCI"
   },
   "outputs": [],
   "source": [
    "List_of_FIFA_world_Cup_finals.to_csv(\"/content/drive/MyDrive/Python/test_jose.csv\")"
   ]
  },
  {
   "cell_type": "code",
   "execution_count": null,
   "metadata": {
    "id": "o3sBkvNwAegE"
   },
   "outputs": [],
   "source": [
    "from_html = pd.read_html(\"https://es.wikipedia.org/wiki/Anexo:Clubes_campeones_de_la_Copa_Libertadores\")\n",
    "final_libertadores = from_html[1]"
   ]
  },
  {
   "cell_type": "code",
   "execution_count": null,
   "metadata": {
    "colab": {
     "base_uri": "https://localhost:8080/"
    },
    "id": "Jgx0KZqbA40i",
    "outputId": "3b00fae8-bf54-4a6c-8eb3-9292f42e72aa"
   },
   "outputs": [
    {
     "name": "stdout",
     "output_type": "stream",
     "text": [
      "     Edición                                     Local  ...   Refs Unnamed: 7\n",
      "222   2015.0        River Plate ganó 4–1 en los puntos  ...  [15]​        NaN\n",
      "223      NaN                                       NaN  ...    NaN        NaN\n",
      "224   2016.0                   Independiente del Valle  ...  [29]​        NaN\n",
      "225   2016.0                         Atlético Nacional  ...  [29]​        NaN\n",
      "226   2016.0  Atlético Nacional ganó 4–1 en los puntos  ...  [29]​        NaN\n",
      "227      NaN                                       NaN  ...    NaN        NaN\n",
      "228   2017.0                                    Grêmio  ...  [30]​        NaN\n",
      "229   2017.0                                     Lanús  ...  [30]​        NaN\n",
      "230   2017.0             Grêmio ganó 6–0 en los puntos  ...  [30]​        NaN\n",
      "231      NaN                                       NaN  ...    NaN        NaN\n",
      "232   2018.0                              Boca Juniors  ...  [31]​        NaN\n",
      "233   2018.0                               River Plate  ...  [31]​        NaN\n",
      "234   2018.0        River Plate ganó 4–1 en los puntos  ...  [31]​        NaN\n",
      "235      NaN                                       NaN  ...    NaN        NaN\n",
      "236   2019.0                                  Flamengo  ...  [32]​        NaN\n",
      "237   2019.0           Flamengo ganó 3–0 en los puntos  ...  [32]​        NaN\n",
      "238      NaN                                       NaN  ...    NaN      [32]​\n",
      "239   2020.0                                 Palmeiras  ...    NaN        NaN\n",
      "240   2020.0          Palmeiras ganó 3–0 en los puntos  ...    NaN        NaN\n",
      "241      NaN                                       NaN  ...    NaN        NaN\n",
      "\n",
      "[20 rows x 8 columns]\n",
      "<class 'pandas.core.frame.DataFrame'>\n",
      "RangeIndex: 242 entries, 0 to 241\n",
      "Data columns (total 8 columns):\n",
      " #   Column        Non-Null Count  Dtype  \n",
      "---  ------        --------------  -----  \n",
      " 0   Edición       181 non-null    float64\n",
      " 1   Local         181 non-null    object \n",
      " 2   Marcador      181 non-null    object \n",
      " 3   Visitante     181 non-null    object \n",
      " 4   Sede          181 non-null    object \n",
      " 5   Localización  181 non-null    object \n",
      " 6   Refs          179 non-null    object \n",
      " 7   Unnamed: 7    1 non-null      object \n",
      "dtypes: float64(1), object(7)\n",
      "memory usage: 15.2+ KB\n"
     ]
    }
   ],
   "source": [
    "final_libertadores.head(20)\n",
    "print(final_libertadores.tail(20))\n",
    "final_libertadores.info()\n",
    "                              "
   ]
  },
  {
   "cell_type": "code",
   "execution_count": null,
   "metadata": {
    "id": "QGxyGnA9EaSM"
   },
   "outputs": [],
   "source": [
    "final_libertadores.to_csv(\"/content/drive/MyDrive/Python/finales_libertadores.csv\")"
   ]
  },
  {
   "cell_type": "code",
   "execution_count": null,
   "metadata": {
    "id": "hPDZO2_LE6F4"
   },
   "outputs": [],
   "source": [
    "## Para leer shp\n",
    "## se ocupa el script pip install geopandas"
   ]
  },
  {
   "cell_type": "code",
   "execution_count": null,
   "metadata": {
    "colab": {
     "base_uri": "https://localhost:8080/"
    },
    "id": "OB7R2havFTCy",
    "outputId": "c210b67f-618d-422b-c7ea-86c5b2002eaf"
   },
   "outputs": [],
   "source": [
    "!pip install geopandas"
   ]
  },
  {
   "cell_type": "code",
   "execution_count": 4,
   "metadata": {},
   "outputs": [
    {
     "name": "stdout",
     "output_type": "stream",
     "text": [
      "Collecting geopandas"
     ]
    },
    {
     "name": "stderr",
     "output_type": "stream",
     "text": [
      "    ERROR: Command errored out with exit status 1:\n",
      "     command: 'C:\\Users\\jcord\\anaconda3\\python.exe' -c 'import sys, setuptools, tokenize; sys.argv[0] = '\"'\"'C:\\\\Users\\\\jcord\\\\AppData\\\\Local\\\\Temp\\\\pip-install-tvadgay0\\\\fiona_8a1ed0b6ea2541ba81fd33ddd28c1426\\\\setup.py'\"'\"'; __file__='\"'\"'C:\\\\Users\\\\jcord\\\\AppData\\\\Local\\\\Temp\\\\pip-install-tvadgay0\\\\fiona_8a1ed0b6ea2541ba81fd33ddd28c1426\\\\setup.py'\"'\"';f=getattr(tokenize, '\"'\"'open'\"'\"', open)(__file__);code=f.read().replace('\"'\"'\\r\\n'\"'\"', '\"'\"'\\n'\"'\"');f.close();exec(compile(code, __file__, '\"'\"'exec'\"'\"'))' egg_info --egg-base 'C:\\Users\\jcord\\AppData\\Local\\Temp\\pip-pip-egg-info-t74j1x3f'\n",
      "         cwd: C:\\Users\\jcord\\AppData\\Local\\Temp\\pip-install-tvadgay0\\fiona_8a1ed0b6ea2541ba81fd33ddd28c1426\\\n",
      "    Complete output (1 lines):\n",
      "    A GDAL API version must be specified. Provide a path to gdal-config using a GDAL_CONFIG environment variable or use a GDAL_VERSION environment variable.\n",
      "    ----------------------------------------\n",
      "WARNING: Discarding https://files.pythonhosted.org/packages/ec/f7/093890341a7e8fbfcdfa04caf4dfb588ebab32c13ceaa6a3819da79ea106/Fiona-1.8.20.tar.gz#sha256=a70502d2857b82f749c09cb0dea3726787747933a2a1599b5ab787d74e3c143b (from https://pypi.org/simple/fiona/). Command errored out with exit status 1: python setup.py egg_info Check the logs for full command output.\n",
      "    ERROR: Command errored out with exit status 1:\n",
      "     command: 'C:\\Users\\jcord\\anaconda3\\python.exe' -c 'import sys, setuptools, tokenize; sys.argv[0] = '\"'\"'C:\\\\Users\\\\jcord\\\\AppData\\\\Local\\\\Temp\\\\pip-install-tvadgay0\\\\fiona_c03c1a3c535d4b84abc87bf007b74a00\\\\setup.py'\"'\"'; __file__='\"'\"'C:\\\\Users\\\\jcord\\\\AppData\\\\Local\\\\Temp\\\\pip-install-tvadgay0\\\\fiona_c03c1a3c535d4b84abc87bf007b74a00\\\\setup.py'\"'\"';f=getattr(tokenize, '\"'\"'open'\"'\"', open)(__file__);code=f.read().replace('\"'\"'\\r\\n'\"'\"', '\"'\"'\\n'\"'\"');f.close();exec(compile(code, __file__, '\"'\"'exec'\"'\"'))' egg_info --egg-base 'C:\\Users\\jcord\\AppData\\Local\\Temp\\pip-pip-egg-info-0d9vsnb_'\n",
      "         cwd: C:\\Users\\jcord\\AppData\\Local\\Temp\\pip-install-tvadgay0\\fiona_c03c1a3c535d4b84abc87bf007b74a00\\\n",
      "    Complete output (1 lines):\n",
      "    A GDAL API version must be specified. Provide a path to gdal-config using a GDAL_CONFIG environment variable or use a GDAL_VERSION environment variable.\n",
      "    ----------------------------------------\n",
      "WARNING: Discarding https://files.pythonhosted.org/packages/a0/d9/6042aeb073d11341f7726de0586ff71c13117c34959dcf07bd4ee6d4b93e/Fiona-1.8.19.tar.gz#sha256=b9059e0b29c2e9e6b817e53f941e77e1aca7075f986005d38db307067b60458f (from https://pypi.org/simple/fiona/). Command errored out with exit status 1: python setup.py egg_info Check the logs for full command output.\n",
      "    ERROR: Command errored out with exit status 1:\n",
      "     command: 'C:\\Users\\jcord\\anaconda3\\python.exe' -c 'import sys, setuptools, tokenize; sys.argv[0] = '\"'\"'C:\\\\Users\\\\jcord\\\\AppData\\\\Local\\\\Temp\\\\pip-install-tvadgay0\\\\fiona_c5e799a780334aed889d314e299de8b8\\\\setup.py'\"'\"'; __file__='\"'\"'C:\\\\Users\\\\jcord\\\\AppData\\\\Local\\\\Temp\\\\pip-install-tvadgay0\\\\fiona_c5e799a780334aed889d314e299de8b8\\\\setup.py'\"'\"';f=getattr(tokenize, '\"'\"'open'\"'\"', open)(__file__);code=f.read().replace('\"'\"'\\r\\n'\"'\"', '\"'\"'\\n'\"'\"');f.close();exec(compile(code, __file__, '\"'\"'exec'\"'\"'))' egg_info --egg-base 'C:\\Users\\jcord\\AppData\\Local\\Temp\\pip-pip-egg-info-xhmj4m07'\n",
      "         cwd: C:\\Users\\jcord\\AppData\\Local\\Temp\\pip-install-tvadgay0\\fiona_c5e799a780334aed889d314e299de8b8\\\n",
      "    Complete output (1 lines):\n",
      "    A GDAL API version must be specified. Provide a path to gdal-config using a GDAL_CONFIG environment variable or use a GDAL_VERSION environment variable.\n",
      "    ----------------------------------------\n",
      "WARNING: Discarding https://files.pythonhosted.org/packages/9f/e8/401cdaa58d862a25c4b3365acf7d2bd7ac77191e3dc9acdcdac0eff20ff0/Fiona-1.8.18.tar.gz#sha256=b732ece0ff8886a29c439723a3e1fc382718804bb057519d537a81308854967a (from https://pypi.org/simple/fiona/). Command errored out with exit status 1: python setup.py egg_info Check the logs for full command output.\n",
      "    ERROR: Command errored out with exit status 1:\n",
      "     command: 'C:\\Users\\jcord\\anaconda3\\python.exe' -c 'import sys, setuptools, tokenize; sys.argv[0] = '\"'\"'C:\\\\Users\\\\jcord\\\\AppData\\\\Local\\\\Temp\\\\pip-install-tvadgay0\\\\fiona_a024d508e6314c3fa9c549a25cc14817\\\\setup.py'\"'\"'; __file__='\"'\"'C:\\\\Users\\\\jcord\\\\AppData\\\\Local\\\\Temp\\\\pip-install-tvadgay0\\\\fiona_a024d508e6314c3fa9c549a25cc14817\\\\setup.py'\"'\"';f=getattr(tokenize, '\"'\"'open'\"'\"', open)(__file__);code=f.read().replace('\"'\"'\\r\\n'\"'\"', '\"'\"'\\n'\"'\"');f.close();exec(compile(code, __file__, '\"'\"'exec'\"'\"'))' egg_info --egg-base 'C:\\Users\\jcord\\AppData\\Local\\Temp\\pip-pip-egg-info-mcuqu9ug'\n",
      "         cwd: C:\\Users\\jcord\\AppData\\Local\\Temp\\pip-install-tvadgay0\\fiona_a024d508e6314c3fa9c549a25cc14817\\\n",
      "    Complete output (1 lines):\n",
      "    A GDAL API version must be specified. Provide a path to gdal-config using a GDAL_CONFIG environment variable or use a GDAL_VERSION environment variable.\n",
      "    ----------------------------------------\n",
      "WARNING: Discarding https://files.pythonhosted.org/packages/88/62/69347ba2c41b526e1953c4cb66d51170b2869808863c03af202ba0121670/Fiona-1.8.17.tar.gz#sha256=716201c21246587f374785bec6d6a20a984fe1f6c2b0e83bf15127eb8f724d0c (from https://pypi.org/simple/fiona/). Command errored out with exit status 1: python setup.py egg_info Check the logs for full command output.\n",
      "    ERROR: Command errored out with exit status 1:\n",
      "     command: 'C:\\Users\\jcord\\anaconda3\\python.exe' -c 'import sys, setuptools, tokenize; sys.argv[0] = '\"'\"'C:\\\\Users\\\\jcord\\\\AppData\\\\Local\\\\Temp\\\\pip-install-tvadgay0\\\\fiona_9969b2cb12764c098ccbffce2116ce0e\\\\setup.py'\"'\"'; __file__='\"'\"'C:\\\\Users\\\\jcord\\\\AppData\\\\Local\\\\Temp\\\\pip-install-tvadgay0\\\\fiona_9969b2cb12764c098ccbffce2116ce0e\\\\setup.py'\"'\"';f=getattr(tokenize, '\"'\"'open'\"'\"', open)(__file__);code=f.read().replace('\"'\"'\\r\\n'\"'\"', '\"'\"'\\n'\"'\"');f.close();exec(compile(code, __file__, '\"'\"'exec'\"'\"'))' egg_info --egg-base 'C:\\Users\\jcord\\AppData\\Local\\Temp\\pip-pip-egg-info-7fwfpr7p'\n",
      "         cwd: C:\\Users\\jcord\\AppData\\Local\\Temp\\pip-install-tvadgay0\\fiona_9969b2cb12764c098ccbffce2116ce0e\\\n",
      "    Complete output (1 lines):\n",
      "    A GDAL API version must be specified. Provide a path to gdal-config using a GDAL_CONFIG environment variable or use a GDAL_VERSION environment variable.\n",
      "    ----------------------------------------\n",
      "WARNING: Discarding https://files.pythonhosted.org/packages/1e/60/dfc6115a11338d8aa96cacd8c60635223d9c97d61d556c90acc5dfd663fa/Fiona-1.8.16.tar.gz#sha256=fd6dfb65959becc916e9f6928618bfd59c16cdbc413ece0fbac61489cd11255f (from https://pypi.org/simple/fiona/). Command errored out with exit status 1: python setup.py egg_info Check the logs for full command output.\n",
      "    ERROR: Command errored out with exit status 1:\n",
      "     command: 'C:\\Users\\jcord\\anaconda3\\python.exe' -c 'import sys, setuptools, tokenize; sys.argv[0] = '\"'\"'C:\\\\Users\\\\jcord\\\\AppData\\\\Local\\\\Temp\\\\pip-install-tvadgay0\\\\fiona_b7b7b343221b46229120725275a08ee3\\\\setup.py'\"'\"'; __file__='\"'\"'C:\\\\Users\\\\jcord\\\\AppData\\\\Local\\\\Temp\\\\pip-install-tvadgay0\\\\fiona_b7b7b343221b46229120725275a08ee3\\\\setup.py'\"'\"';f=getattr(tokenize, '\"'\"'open'\"'\"', open)(__file__);code=f.read().replace('\"'\"'\\r\\n'\"'\"', '\"'\"'\\n'\"'\"');f.close();exec(compile(code, __file__, '\"'\"'exec'\"'\"'))' egg_info --egg-base 'C:\\Users\\jcord\\AppData\\Local\\Temp\\pip-pip-egg-info-63tsp3r8'\n",
      "         cwd: C:\\Users\\jcord\\AppData\\Local\\Temp\\pip-install-tvadgay0\\fiona_b7b7b343221b46229120725275a08ee3\\\n",
      "    Complete output (1 lines):\n",
      "    A GDAL API version must be specified. Provide a path to gdal-config using a GDAL_CONFIG environment variable or use a GDAL_VERSION environment variable.\n",
      "    ----------------------------------------\n",
      "WARNING: Discarding https://files.pythonhosted.org/packages/55/2f/17450ec2c8fcc720a8a3e4d9a383499508475c7cfb90f7eca9fb585ac598/Fiona-1.8.15.tar.gz#sha256=3b1c9b5c834fae2fe947cfaea176db890bc6750d1a6ba9f54d969c19ffcd191e (from https://pypi.org/simple/fiona/). Command errored out with exit status 1: python setup.py egg_info Check the logs for full command output.\n",
      "    ERROR: Command errored out with exit status 1:\n",
      "     command: 'C:\\Users\\jcord\\anaconda3\\python.exe' -c 'import sys, setuptools, tokenize; sys.argv[0] = '\"'\"'C:\\\\Users\\\\jcord\\\\AppData\\\\Local\\\\Temp\\\\pip-install-tvadgay0\\\\fiona_33ed9f45461048afb7ff69f9fb82d67b\\\\setup.py'\"'\"'; __file__='\"'\"'C:\\\\Users\\\\jcord\\\\AppData\\\\Local\\\\Temp\\\\pip-install-tvadgay0\\\\fiona_33ed9f45461048afb7ff69f9fb82d67b\\\\setup.py'\"'\"';f=getattr(tokenize, '\"'\"'open'\"'\"', open)(__file__);code=f.read().replace('\"'\"'\\r\\n'\"'\"', '\"'\"'\\n'\"'\"');f.close();exec(compile(code, __file__, '\"'\"'exec'\"'\"'))' egg_info --egg-base 'C:\\Users\\jcord\\AppData\\Local\\Temp\\pip-pip-egg-info-0n9rfiki'\n",
      "         cwd: C:\\Users\\jcord\\AppData\\Local\\Temp\\pip-install-tvadgay0\\fiona_33ed9f45461048afb7ff69f9fb82d67b\\\n",
      "    Complete output (1 lines):\n",
      "    A GDAL API version must be specified. Provide a path to gdal-config using a GDAL_CONFIG environment variable or use a GDAL_VERSION environment variable.\n",
      "    ----------------------------------------\n",
      "WARNING: Discarding https://files.pythonhosted.org/packages/5c/fd/5ec54f2d9b3d5dd23dd443fad5630d6b872e2664814c68b856c47e0d65af/Fiona-1.8.14.tar.gz#sha256=6eac038206c89d2cf5f99ea38b81cc228dc21eac5f47870a9a32d453b0007f4d (from https://pypi.org/simple/fiona/). Command errored out with exit status 1: python setup.py egg_info Check the logs for full command output.\n",
      "    ERROR: Command errored out with exit status 1:\n",
      "     command: 'C:\\Users\\jcord\\anaconda3\\python.exe' -c 'import sys, setuptools, tokenize; sys.argv[0] = '\"'\"'C:\\\\Users\\\\jcord\\\\AppData\\\\Local\\\\Temp\\\\pip-install-tvadgay0\\\\fiona_65975855890243a784c3306ed9efc2e8\\\\setup.py'\"'\"'; __file__='\"'\"'C:\\\\Users\\\\jcord\\\\AppData\\\\Local\\\\Temp\\\\pip-install-tvadgay0\\\\fiona_65975855890243a784c3306ed9efc2e8\\\\setup.py'\"'\"';f=getattr(tokenize, '\"'\"'open'\"'\"', open)(__file__);code=f.read().replace('\"'\"'\\r\\n'\"'\"', '\"'\"'\\n'\"'\"');f.close();exec(compile(code, __file__, '\"'\"'exec'\"'\"'))' egg_info --egg-base 'C:\\Users\\jcord\\AppData\\Local\\Temp\\pip-pip-egg-info-5q4iil1g'\n",
      "         cwd: C:\\Users\\jcord\\AppData\\Local\\Temp\\pip-install-tvadgay0\\fiona_65975855890243a784c3306ed9efc2e8\\\n",
      "    Complete output (1 lines):\n",
      "    A GDAL API version must be specified. Provide a path to gdal-config using a GDAL_CONFIG environment variable or use a GDAL_VERSION environment variable.\n",
      "    ----------------------------------------\n",
      "WARNING: Discarding https://files.pythonhosted.org/packages/6d/42/f4a7cac53b28fa70e9a93d0e89a24d33e14826dad6644b699362ad84dde0/Fiona-1.8.13.post1.tar.gz#sha256=1a432bf9fd56f089256c010da009c90d4a795c531a848132c965052185336600 (from https://pypi.org/simple/fiona/). Command errored out with exit status 1: python setup.py egg_info Check the logs for full command output.\n",
      "    ERROR: Command errored out with exit status 1:\n",
      "     command: 'C:\\Users\\jcord\\anaconda3\\python.exe' -c 'import sys, setuptools, tokenize; sys.argv[0] = '\"'\"'C:\\\\Users\\\\jcord\\\\AppData\\\\Local\\\\Temp\\\\pip-install-tvadgay0\\\\fiona_32d47fa0494f4834ad9612f40d6dd82e\\\\setup.py'\"'\"'; __file__='\"'\"'C:\\\\Users\\\\jcord\\\\AppData\\\\Local\\\\Temp\\\\pip-install-tvadgay0\\\\fiona_32d47fa0494f4834ad9612f40d6dd82e\\\\setup.py'\"'\"';f=getattr(tokenize, '\"'\"'open'\"'\"', open)(__file__);code=f.read().replace('\"'\"'\\r\\n'\"'\"', '\"'\"'\\n'\"'\"');f.close();exec(compile(code, __file__, '\"'\"'exec'\"'\"'))' egg_info --egg-base 'C:\\Users\\jcord\\AppData\\Local\\Temp\\pip-pip-egg-info-t2cuv7qk'\n",
      "         cwd: C:\\Users\\jcord\\AppData\\Local\\Temp\\pip-install-tvadgay0\\fiona_32d47fa0494f4834ad9612f40d6dd82e\\\n",
      "    Complete output (1 lines):\n",
      "    A GDAL API version must be specified. Provide a path to gdal-config using a GDAL_CONFIG environment variable or use a GDAL_VERSION environment variable.\n",
      "    ----------------------------------------\n",
      "WARNING: Discarding https://files.pythonhosted.org/packages/be/04/31d0a6f03943b1684f32c9b861be40c1fd282468fa6bd54ddf4a774e6b0f/Fiona-1.8.13.tar.gz#sha256=5ec34898c8b983a723fb4e949dd3e0ed7e691c303e51f6bfd61e52ac9ac813ae (from https://pypi.org/simple/fiona/). Command errored out with exit status 1: python setup.py egg_info Check the logs for full command output.\n",
      "    ERROR: Command errored out with exit status 1:\n",
      "     command: 'C:\\Users\\jcord\\anaconda3\\python.exe' -c 'import sys, setuptools, tokenize; sys.argv[0] = '\"'\"'C:\\\\Users\\\\jcord\\\\AppData\\\\Local\\\\Temp\\\\pip-install-tvadgay0\\\\fiona_5cd89be570d8457c91f217a7ace52350\\\\setup.py'\"'\"'; __file__='\"'\"'C:\\\\Users\\\\jcord\\\\AppData\\\\Local\\\\Temp\\\\pip-install-tvadgay0\\\\fiona_5cd89be570d8457c91f217a7ace52350\\\\setup.py'\"'\"';f=getattr(tokenize, '\"'\"'open'\"'\"', open)(__file__);code=f.read().replace('\"'\"'\\r\\n'\"'\"', '\"'\"'\\n'\"'\"');f.close();exec(compile(code, __file__, '\"'\"'exec'\"'\"'))' egg_info --egg-base 'C:\\Users\\jcord\\AppData\\Local\\Temp\\pip-pip-egg-info-e1b8h3rm'\n",
      "         cwd: C:\\Users\\jcord\\AppData\\Local\\Temp\\pip-install-tvadgay0\\fiona_5cd89be570d8457c91f217a7ace52350\\\n",
      "    Complete output (1 lines):\n",
      "    A GDAL API version must be specified. Provide a path to gdal-config using a GDAL_CONFIG environment variable or use a GDAL_VERSION environment variable.\n",
      "    ----------------------------------------\n",
      "WARNING: Discarding https://files.pythonhosted.org/packages/97/d8/feab39987296437fbdc3029fb39752a14355d217d73b93471010b8dd63a3/Fiona-1.8.12.tar.gz#sha256=c9266ddf6ae2a64fcea20014ddf27f800ac07584f2fdb09c2a02f3b3a52e371c (from https://pypi.org/simple/fiona/). Command errored out with exit status 1: python setup.py egg_info Check the logs for full command output.\n",
      "    ERROR: Command errored out with exit status 1:\n",
      "     command: 'C:\\Users\\jcord\\anaconda3\\python.exe' -c 'import sys, setuptools, tokenize; sys.argv[0] = '\"'\"'C:\\\\Users\\\\jcord\\\\AppData\\\\Local\\\\Temp\\\\pip-install-tvadgay0\\\\fiona_00a9cae0cdf54fda8253e56f564626e9\\\\setup.py'\"'\"'; __file__='\"'\"'C:\\\\Users\\\\jcord\\\\AppData\\\\Local\\\\Temp\\\\pip-install-tvadgay0\\\\fiona_00a9cae0cdf54fda8253e56f564626e9\\\\setup.py'\"'\"';f=getattr(tokenize, '\"'\"'open'\"'\"', open)(__file__);code=f.read().replace('\"'\"'\\r\\n'\"'\"', '\"'\"'\\n'\"'\"');f.close();exec(compile(code, __file__, '\"'\"'exec'\"'\"'))' egg_info --egg-base 'C:\\Users\\jcord\\AppData\\Local\\Temp\\pip-pip-egg-info-eh5n18zj'\n",
      "         cwd: C:\\Users\\jcord\\AppData\\Local\\Temp\\pip-install-tvadgay0\\fiona_00a9cae0cdf54fda8253e56f564626e9\\\n",
      "    Complete output (1 lines):\n",
      "    A GDAL API version must be specified. Provide a path to gdal-config using a GDAL_CONFIG environment variable or use a GDAL_VERSION environment variable.\n",
      "    ----------------------------------------\n",
      "WARNING: Discarding https://files.pythonhosted.org/packages/9d/f4/0a0ddc6174c4a93679b5f1dd3535e7ef8989828e6d5f86112de681f8c87b/Fiona-1.8.11.tar.gz#sha256=1e7ca9e051f5bffa1c43c70d573da9ca223fc076b84fa73380614fc02b9eb7f6 (from https://pypi.org/simple/fiona/). Command errored out with exit status 1: python setup.py egg_info Check the logs for full command output.\n",
      "    ERROR: Command errored out with exit status 1:\n",
      "     command: 'C:\\Users\\jcord\\anaconda3\\python.exe' -c 'import sys, setuptools, tokenize; sys.argv[0] = '\"'\"'C:\\\\Users\\\\jcord\\\\AppData\\\\Local\\\\Temp\\\\pip-install-tvadgay0\\\\fiona_ace34778064445d08ea929cabd7e6a29\\\\setup.py'\"'\"'; __file__='\"'\"'C:\\\\Users\\\\jcord\\\\AppData\\\\Local\\\\Temp\\\\pip-install-tvadgay0\\\\fiona_ace34778064445d08ea929cabd7e6a29\\\\setup.py'\"'\"';f=getattr(tokenize, '\"'\"'open'\"'\"', open)(__file__);code=f.read().replace('\"'\"'\\r\\n'\"'\"', '\"'\"'\\n'\"'\"');f.close();exec(compile(code, __file__, '\"'\"'exec'\"'\"'))' egg_info --egg-base 'C:\\Users\\jcord\\AppData\\Local\\Temp\\pip-pip-egg-info-hkdi6lys'\n",
      "         cwd: C:\\Users\\jcord\\AppData\\Local\\Temp\\pip-install-tvadgay0\\fiona_ace34778064445d08ea929cabd7e6a29\\\n",
      "    Complete output (1 lines):\n",
      "    A GDAL API version must be specified. Provide a path to gdal-config using a GDAL_CONFIG environment variable or use a GDAL_VERSION environment variable.\n",
      "    ----------------------------------------\n",
      "WARNING: Discarding https://files.pythonhosted.org/packages/13/73/f80b491ed8559326fab202a6d6333a3cd6e8be1e9d782bc6c0d03d476457/Fiona-1.8.10.tar.gz#sha256=ff562eb2f3960e21f8c7f050ddd7f47a763869ea14afc2234a40df72666c6a2c (from https://pypi.org/simple/fiona/). Command errored out with exit status 1: python setup.py egg_info Check the logs for full command output.\n",
      "    ERROR: Command errored out with exit status 1:\n",
      "     command: 'C:\\Users\\jcord\\anaconda3\\python.exe' -c 'import sys, setuptools, tokenize; sys.argv[0] = '\"'\"'C:\\\\Users\\\\jcord\\\\AppData\\\\Local\\\\Temp\\\\pip-install-tvadgay0\\\\fiona_7cb69f3c21614e1c8cc31339770f2ece\\\\setup.py'\"'\"'; __file__='\"'\"'C:\\\\Users\\\\jcord\\\\AppData\\\\Local\\\\Temp\\\\pip-install-tvadgay0\\\\fiona_7cb69f3c21614e1c8cc31339770f2ece\\\\setup.py'\"'\"';f=getattr(tokenize, '\"'\"'open'\"'\"', open)(__file__);code=f.read().replace('\"'\"'\\r\\n'\"'\"', '\"'\"'\\n'\"'\"');f.close();exec(compile(code, __file__, '\"'\"'exec'\"'\"'))' egg_info --egg-base 'C:\\Users\\jcord\\AppData\\Local\\Temp\\pip-pip-egg-info-89q8frr2'\n",
      "         cwd: C:\\Users\\jcord\\AppData\\Local\\Temp\\pip-install-tvadgay0\\fiona_7cb69f3c21614e1c8cc31339770f2ece\\\n",
      "    Complete output (1 lines):\n",
      "    A GDAL API version must be specified. Provide a path to gdal-config using a GDAL_CONFIG environment variable or use a GDAL_VERSION environment variable.\n",
      "    ----------------------------------------\n",
      "WARNING: Discarding https://files.pythonhosted.org/packages/9b/52/45e75507660ce0e86176d0f59b659560f687e2c7e9ebf82a10e7dcd2d3b7/Fiona-1.8.9.post2.tar.gz#sha256=210fb038b579fab38f35ddbdd31b9725f4d5099b3edfd4b87c983e5d47b79983 (from https://pypi.org/simple/fiona/). Command errored out with exit status 1: python setup.py egg_info Check the logs for full command output.\n",
      "    ERROR: Command errored out with exit status 1:\n",
      "     command: 'C:\\Users\\jcord\\anaconda3\\python.exe' -c 'import sys, setuptools, tokenize; sys.argv[0] = '\"'\"'C:\\\\Users\\\\jcord\\\\AppData\\\\Local\\\\Temp\\\\pip-install-tvadgay0\\\\fiona_723a59ca8e13452db9120f7681534809\\\\setup.py'\"'\"'; __file__='\"'\"'C:\\\\Users\\\\jcord\\\\AppData\\\\Local\\\\Temp\\\\pip-install-tvadgay0\\\\fiona_723a59ca8e13452db9120f7681534809\\\\setup.py'\"'\"';f=getattr(tokenize, '\"'\"'open'\"'\"', open)(__file__);code=f.read().replace('\"'\"'\\r\\n'\"'\"', '\"'\"'\\n'\"'\"');f.close();exec(compile(code, __file__, '\"'\"'exec'\"'\"'))' egg_info --egg-base 'C:\\Users\\jcord\\AppData\\Local\\Temp\\pip-pip-egg-info-advj06el'\n",
      "         cwd: C:\\Users\\jcord\\AppData\\Local\\Temp\\pip-install-tvadgay0\\fiona_723a59ca8e13452db9120f7681534809\\\n",
      "    Complete output (1 lines):\n",
      "    A GDAL API version must be specified. Provide a path to gdal-config using a GDAL_CONFIG environment variable or use a GDAL_VERSION environment variable.\n",
      "    ----------------------------------------\n",
      "WARNING: Discarding https://files.pythonhosted.org/packages/0e/a4/d9dd7399be809d3990f5000fb6ae43189ea26ae88be1bed3a4c9ddc1becc/Fiona-1.8.9.post1.tar.gz#sha256=d5e0ea0b8addffe9cba4cb59e2bd495b015230e7a1b1597974f5048211930199 (from https://pypi.org/simple/fiona/). Command errored out with exit status 1: python setup.py egg_info Check the logs for full command output.\n",
      "    ERROR: Command errored out with exit status 1:\n",
      "     command: 'C:\\Users\\jcord\\anaconda3\\python.exe' -c 'import sys, setuptools, tokenize; sys.argv[0] = '\"'\"'C:\\\\Users\\\\jcord\\\\AppData\\\\Local\\\\Temp\\\\pip-install-tvadgay0\\\\fiona_293a6670c1a7422bab1ece334a6494bf\\\\setup.py'\"'\"'; __file__='\"'\"'C:\\\\Users\\\\jcord\\\\AppData\\\\Local\\\\Temp\\\\pip-install-tvadgay0\\\\fiona_293a6670c1a7422bab1ece334a6494bf\\\\setup.py'\"'\"';f=getattr(tokenize, '\"'\"'open'\"'\"', open)(__file__);code=f.read().replace('\"'\"'\\r\\n'\"'\"', '\"'\"'\\n'\"'\"');f.close();exec(compile(code, __file__, '\"'\"'exec'\"'\"'))' egg_info --egg-base 'C:\\Users\\jcord\\AppData\\Local\\Temp\\pip-pip-egg-info-au_b9931'\n",
      "         cwd: C:\\Users\\jcord\\AppData\\Local\\Temp\\pip-install-tvadgay0\\fiona_293a6670c1a7422bab1ece334a6494bf\\\n",
      "    Complete output (1 lines):\n",
      "    A GDAL API version must be specified. Provide a path to gdal-config using a GDAL_CONFIG environment variable or use a GDAL_VERSION environment variable.\n",
      "    ----------------------------------------\n",
      "WARNING: Discarding https://files.pythonhosted.org/packages/ad/92/dcbd8c54d697c22f299b5af63b6df3acfbd06c6d72e249614c05be99337c/Fiona-1.8.9.tar.gz#sha256=4dd6e2f5327c1174143c7c8594a75d373bc72f2c9a2a6daee312c3186a128add (from https://pypi.org/simple/fiona/). Command errored out with exit status 1: python setup.py egg_info Check the logs for full command output.\n",
      "    ERROR: Command errored out with exit status 1:\n",
      "     command: 'C:\\Users\\jcord\\anaconda3\\python.exe' -c 'import sys, setuptools, tokenize; sys.argv[0] = '\"'\"'C:\\\\Users\\\\jcord\\\\AppData\\\\Local\\\\Temp\\\\pip-install-tvadgay0\\\\fiona_50827922ab7342e69d3618010153d40a\\\\setup.py'\"'\"'; __file__='\"'\"'C:\\\\Users\\\\jcord\\\\AppData\\\\Local\\\\Temp\\\\pip-install-tvadgay0\\\\fiona_50827922ab7342e69d3618010153d40a\\\\setup.py'\"'\"';f=getattr(tokenize, '\"'\"'open'\"'\"', open)(__file__);code=f.read().replace('\"'\"'\\r\\n'\"'\"', '\"'\"'\\n'\"'\"');f.close();exec(compile(code, __file__, '\"'\"'exec'\"'\"'))' egg_info --egg-base 'C:\\Users\\jcord\\AppData\\Local\\Temp\\pip-pip-egg-info-fymnrwdy'\n",
      "         cwd: C:\\Users\\jcord\\AppData\\Local\\Temp\\pip-install-tvadgay0\\fiona_50827922ab7342e69d3618010153d40a\\\n",
      "    Complete output (1 lines):"
     ]
    },
    {
     "name": "stdout",
     "output_type": "stream",
     "text": [
      "\n",
      "  Using cached geopandas-0.9.0-py2.py3-none-any.whl (994 kB)\n",
      "Collecting fiona>=1.8\n",
      "  Using cached Fiona-1.8.20.tar.gz (1.3 MB)\n",
      "  Using cached Fiona-1.8.19.tar.gz (1.3 MB)\n",
      "  Using cached Fiona-1.8.18.tar.gz (1.3 MB)\n",
      "  Using cached Fiona-1.8.17.tar.gz (1.3 MB)\n",
      "  Using cached Fiona-1.8.16.tar.gz (1.3 MB)\n",
      "  Using cached Fiona-1.8.15.tar.gz (1.3 MB)\n",
      "  Using cached Fiona-1.8.14.tar.gz (1.3 MB)\n",
      "  Using cached Fiona-1.8.13.post1.tar.gz (1.2 MB)\n",
      "  Using cached Fiona-1.8.13.tar.gz (1.2 MB)\n",
      "  Using cached Fiona-1.8.12.tar.gz (1.2 MB)\n",
      "  Using cached Fiona-1.8.11.tar.gz (1.2 MB)\n",
      "  Using cached Fiona-1.8.10.tar.gz (1.2 MB)\n",
      "  Using cached Fiona-1.8.9.post2.tar.gz (1.2 MB)\n",
      "  Using cached Fiona-1.8.9.post1.tar.gz (1.2 MB)\n",
      "  Using cached Fiona-1.8.9.tar.gz (1.2 MB)\n",
      "  Using cached Fiona-1.8.8.tar.gz (1.7 MB)\n",
      "  Using cached Fiona-1.8.7.tar.gz (1.7 MB)\n",
      "  Using cached Fiona-1.8.6.tar.gz (1.7 MB)\n",
      "  Using cached Fiona-1.8.5.tar.gz (1.7 MB)\n",
      "  Using cached Fiona-1.8.4.tar.gz (1.1 MB)\n",
      "  Using cached Fiona-1.8.3.tar.gz (1.1 MB)\n",
      "  Using cached Fiona-1.8.2.tar.gz (1.2 MB)\n",
      "  Using cached Fiona-1.8.1.tar.gz (1.1 MB)\n",
      "  Using cached Fiona-1.8.0.tar.gz (1.4 MB)\n",
      "Collecting geopandas\n",
      "  Using cached geopandas-0.8.2-py2.py3-none-any.whl (962 kB)\n",
      "Collecting fiona\n",
      "  Using cached Fiona-1.7.13.tar.gz (731 kB)\n",
      "Requirement already satisfied: pyproj>=2.2.0 in c:\\users\\jcord\\anaconda3\\lib\\site-packages (from geopandas) (3.1.0)\n",
      "Requirement already satisfied: pandas>=0.23.0 in c:\\users\\jcord\\anaconda3\\lib\\site-packages (from geopandas) (1.2.4)\n",
      "Requirement already satisfied: shapely in c:\\users\\jcord\\anaconda3\\lib\\site-packages (from geopandas) (1.7.1)\n",
      "Requirement already satisfied: pytz>=2017.3 in c:\\users\\jcord\\anaconda3\\lib\\site-packages (from pandas>=0.23.0->geopandas) (2021.1)\n",
      "Requirement already satisfied: numpy>=1.16.5 in c:\\users\\jcord\\anaconda3\\lib\\site-packages (from pandas>=0.23.0->geopandas) (1.20.1)\n",
      "Requirement already satisfied: python-dateutil>=2.7.3 in c:\\users\\jcord\\anaconda3\\lib\\site-packages (from pandas>=0.23.0->geopandas) (2.8.1)\n",
      "Requirement already satisfied: certifi in c:\\users\\jcord\\anaconda3\\lib\\site-packages (from pyproj>=2.2.0->geopandas) (2020.12.5)\n",
      "Requirement already satisfied: six>=1.5 in c:\\users\\jcord\\anaconda3\\lib\\site-packages (from python-dateutil>=2.7.3->pandas>=0.23.0->geopandas) (1.15.0)\n",
      "Requirement already satisfied: cligj>=0.4 in c:\\users\\jcord\\anaconda3\\lib\\site-packages (from fiona->geopandas) (0.7.2)\n",
      "Requirement already satisfied: click-plugins in c:\\users\\jcord\\anaconda3\\lib\\site-packages (from fiona->geopandas) (1.1.1)\n",
      "Requirement already satisfied: munch in c:\\users\\jcord\\anaconda3\\lib\\site-packages (from fiona->geopandas) (2.5.0)\n",
      "Requirement already satisfied: click>=4.0 in c:\\users\\jcord\\anaconda3\\lib\\site-packages (from cligj>=0.4->fiona->geopandas) (7.1.2)\n",
      "Building wheels for collected packages: fiona\n",
      "  Building wheel for fiona (setup.py): started\n",
      "  Building wheel for fiona (setup.py): finished with status 'error'\n",
      "  Running setup.py clean for fiona\n",
      "Failed to build fiona\n",
      "Installing collected packages: fiona, geopandas\n",
      "    Running setup.py install for fiona: started\n",
      "    Running setup.py install for fiona: finished with status 'error'\n"
     ]
    },
    {
     "name": "stderr",
     "output_type": "stream",
     "text": [
      "\n",
      "    A GDAL API version must be specified. Provide a path to gdal-config using a GDAL_CONFIG environment variable or use a GDAL_VERSION environment variable.\n",
      "    ----------------------------------------\n",
      "WARNING: Discarding https://files.pythonhosted.org/packages/94/7f/e288db1ad63d759d494c30caae34f865e0c6927588c490705e91b7134193/Fiona-1.8.8.tar.gz#sha256=711c3be73203b37812992089445a1e4e9d3d6b64e667389f7b15406e15a91e83 (from https://pypi.org/simple/fiona/). Command errored out with exit status 1: python setup.py egg_info Check the logs for full command output.\n",
      "    ERROR: Command errored out with exit status 1:\n",
      "     command: 'C:\\Users\\jcord\\anaconda3\\python.exe' -c 'import sys, setuptools, tokenize; sys.argv[0] = '\"'\"'C:\\\\Users\\\\jcord\\\\AppData\\\\Local\\\\Temp\\\\pip-install-tvadgay0\\\\fiona_d5cdd3b6f96344b9abe703c0c8dde708\\\\setup.py'\"'\"'; __file__='\"'\"'C:\\\\Users\\\\jcord\\\\AppData\\\\Local\\\\Temp\\\\pip-install-tvadgay0\\\\fiona_d5cdd3b6f96344b9abe703c0c8dde708\\\\setup.py'\"'\"';f=getattr(tokenize, '\"'\"'open'\"'\"', open)(__file__);code=f.read().replace('\"'\"'\\r\\n'\"'\"', '\"'\"'\\n'\"'\"');f.close();exec(compile(code, __file__, '\"'\"'exec'\"'\"'))' egg_info --egg-base 'C:\\Users\\jcord\\AppData\\Local\\Temp\\pip-pip-egg-info-4kic3jo1'\n",
      "         cwd: C:\\Users\\jcord\\AppData\\Local\\Temp\\pip-install-tvadgay0\\fiona_d5cdd3b6f96344b9abe703c0c8dde708\\\n",
      "    Complete output (1 lines):\n",
      "    A GDAL API version must be specified. Provide a path to gdal-config using a GDAL_CONFIG environment variable or use a GDAL_VERSION environment variable.\n",
      "    ----------------------------------------\n",
      "WARNING: Discarding https://files.pythonhosted.org/packages/78/62/daafd070aebefa639df247705b97f13f7cfad43895581b5cae41bd886709/Fiona-1.8.7.tar.gz#sha256=a55a23615bad3e142d4e4cda97bb5de83c778a80049222e9dffae93c13b5cf93 (from https://pypi.org/simple/fiona/). Command errored out with exit status 1: python setup.py egg_info Check the logs for full command output.\n",
      "    ERROR: Command errored out with exit status 1:\n",
      "     command: 'C:\\Users\\jcord\\anaconda3\\python.exe' -c 'import sys, setuptools, tokenize; sys.argv[0] = '\"'\"'C:\\\\Users\\\\jcord\\\\AppData\\\\Local\\\\Temp\\\\pip-install-tvadgay0\\\\fiona_73519255f9c24f87aad85be7f52254a9\\\\setup.py'\"'\"'; __file__='\"'\"'C:\\\\Users\\\\jcord\\\\AppData\\\\Local\\\\Temp\\\\pip-install-tvadgay0\\\\fiona_73519255f9c24f87aad85be7f52254a9\\\\setup.py'\"'\"';f=getattr(tokenize, '\"'\"'open'\"'\"', open)(__file__);code=f.read().replace('\"'\"'\\r\\n'\"'\"', '\"'\"'\\n'\"'\"');f.close();exec(compile(code, __file__, '\"'\"'exec'\"'\"'))' egg_info --egg-base 'C:\\Users\\jcord\\AppData\\Local\\Temp\\pip-pip-egg-info-2bvm70nm'\n",
      "         cwd: C:\\Users\\jcord\\AppData\\Local\\Temp\\pip-install-tvadgay0\\fiona_73519255f9c24f87aad85be7f52254a9\\\n",
      "    Complete output (1 lines):\n",
      "    A GDAL API version must be specified. Provide a path to gdal-config using a GDAL_CONFIG environment variable or use a GDAL_VERSION environment variable.\n",
      "    ----------------------------------------\n",
      "WARNING: Discarding https://files.pythonhosted.org/packages/41/9d/63696e7b1de42aad294d4781199a408bec593d8fdb80a2b4a788c911a33b/Fiona-1.8.6.tar.gz#sha256=fa31dfe8855b9cd0b128b47a4df558f1b8eda90d2181bff1dd9854e5556efb3e (from https://pypi.org/simple/fiona/). Command errored out with exit status 1: python setup.py egg_info Check the logs for full command output.\n",
      "    ERROR: Command errored out with exit status 1:\n",
      "     command: 'C:\\Users\\jcord\\anaconda3\\python.exe' -c 'import sys, setuptools, tokenize; sys.argv[0] = '\"'\"'C:\\\\Users\\\\jcord\\\\AppData\\\\Local\\\\Temp\\\\pip-install-tvadgay0\\\\fiona_cff0f532de8e4459890b7d2004a4ba68\\\\setup.py'\"'\"'; __file__='\"'\"'C:\\\\Users\\\\jcord\\\\AppData\\\\Local\\\\Temp\\\\pip-install-tvadgay0\\\\fiona_cff0f532de8e4459890b7d2004a4ba68\\\\setup.py'\"'\"';f=getattr(tokenize, '\"'\"'open'\"'\"', open)(__file__);code=f.read().replace('\"'\"'\\r\\n'\"'\"', '\"'\"'\\n'\"'\"');f.close();exec(compile(code, __file__, '\"'\"'exec'\"'\"'))' egg_info --egg-base 'C:\\Users\\jcord\\AppData\\Local\\Temp\\pip-pip-egg-info-un9w36f4'\n",
      "         cwd: C:\\Users\\jcord\\AppData\\Local\\Temp\\pip-install-tvadgay0\\fiona_cff0f532de8e4459890b7d2004a4ba68\\\n",
      "    Complete output (1 lines):\n",
      "    A GDAL API version must be specified. Provide a path to gdal-config using a GDAL_CONFIG environment variable or use a GDAL_VERSION environment variable.\n",
      "    ----------------------------------------\n",
      "WARNING: Discarding https://files.pythonhosted.org/packages/7b/af/1c2c83c4a8363a4ce9fea817b1910b5e071bed012e18257faa2a0ab3cfe7/Fiona-1.8.5.tar.gz#sha256=4f5cc2d449edbbf693c83e24cdada72de7c41297383d16fcc92387eb445e9d35 (from https://pypi.org/simple/fiona/). Command errored out with exit status 1: python setup.py egg_info Check the logs for full command output.\n",
      "    ERROR: Command errored out with exit status 1:\n",
      "     command: 'C:\\Users\\jcord\\anaconda3\\python.exe' -c 'import sys, setuptools, tokenize; sys.argv[0] = '\"'\"'C:\\\\Users\\\\jcord\\\\AppData\\\\Local\\\\Temp\\\\pip-install-tvadgay0\\\\fiona_1e36a85931294d4d8f0db43925e4fedc\\\\setup.py'\"'\"'; __file__='\"'\"'C:\\\\Users\\\\jcord\\\\AppData\\\\Local\\\\Temp\\\\pip-install-tvadgay0\\\\fiona_1e36a85931294d4d8f0db43925e4fedc\\\\setup.py'\"'\"';f=getattr(tokenize, '\"'\"'open'\"'\"', open)(__file__);code=f.read().replace('\"'\"'\\r\\n'\"'\"', '\"'\"'\\n'\"'\"');f.close();exec(compile(code, __file__, '\"'\"'exec'\"'\"'))' egg_info --egg-base 'C:\\Users\\jcord\\AppData\\Local\\Temp\\pip-pip-egg-info-fji7anug'\n",
      "         cwd: C:\\Users\\jcord\\AppData\\Local\\Temp\\pip-install-tvadgay0\\fiona_1e36a85931294d4d8f0db43925e4fedc\\\n",
      "    Complete output (1 lines):\n",
      "    A GDAL API version must be specified. Provide a path to gdal-config using a GDAL_CONFIG environment variable or use a GDAL_VERSION environment variable.\n",
      "    ----------------------------------------\n",
      "WARNING: Discarding https://files.pythonhosted.org/packages/3a/16/84960540e9fce61d767fd2f0f1d95f4c63e99ab5d8fddc308e8b51b059b8/Fiona-1.8.4.tar.gz#sha256=aec9ab2e3513c9503ec123b1a8573bee55fc6a66e2ac07088c3376bf6738a424 (from https://pypi.org/simple/fiona/). Command errored out with exit status 1: python setup.py egg_info Check the logs for full command output.\n",
      "    ERROR: Command errored out with exit status 1:\n",
      "     command: 'C:\\Users\\jcord\\anaconda3\\python.exe' -c 'import sys, setuptools, tokenize; sys.argv[0] = '\"'\"'C:\\\\Users\\\\jcord\\\\AppData\\\\Local\\\\Temp\\\\pip-install-tvadgay0\\\\fiona_6eb8fdaced0846b0ab06c09c9d8f21f6\\\\setup.py'\"'\"'; __file__='\"'\"'C:\\\\Users\\\\jcord\\\\AppData\\\\Local\\\\Temp\\\\pip-install-tvadgay0\\\\fiona_6eb8fdaced0846b0ab06c09c9d8f21f6\\\\setup.py'\"'\"';f=getattr(tokenize, '\"'\"'open'\"'\"', open)(__file__);code=f.read().replace('\"'\"'\\r\\n'\"'\"', '\"'\"'\\n'\"'\"');f.close();exec(compile(code, __file__, '\"'\"'exec'\"'\"'))' egg_info --egg-base 'C:\\Users\\jcord\\AppData\\Local\\Temp\\pip-pip-egg-info-j5qplnhl'\n",
      "         cwd: C:\\Users\\jcord\\AppData\\Local\\Temp\\pip-install-tvadgay0\\fiona_6eb8fdaced0846b0ab06c09c9d8f21f6\\\n",
      "    Complete output (1 lines):\n",
      "    A GDAL API version must be specified. Provide a path to gdal-config using a GDAL_CONFIG environment variable or use a GDAL_VERSION environment variable.\n",
      "    ----------------------------------------\n",
      "WARNING: Discarding https://files.pythonhosted.org/packages/46/d1/fcdb32513a03abfde0d97fd9782ce0f8cc0540fa6c6ce783e87b94064964/Fiona-1.8.3.tar.gz#sha256=3e831100a23c3b6cd32b98baf0c9e2119d909b44a5cf4533d3625f61dcf2d2b1 (from https://pypi.org/simple/fiona/). Command errored out with exit status 1: python setup.py egg_info Check the logs for full command output.\n",
      "    ERROR: Command errored out with exit status 1:\n",
      "     command: 'C:\\Users\\jcord\\anaconda3\\python.exe' -c 'import sys, setuptools, tokenize; sys.argv[0] = '\"'\"'C:\\\\Users\\\\jcord\\\\AppData\\\\Local\\\\Temp\\\\pip-install-tvadgay0\\\\fiona_a2b02d4c67b04d43ac2bc31dbae1b4bf\\\\setup.py'\"'\"'; __file__='\"'\"'C:\\\\Users\\\\jcord\\\\AppData\\\\Local\\\\Temp\\\\pip-install-tvadgay0\\\\fiona_a2b02d4c67b04d43ac2bc31dbae1b4bf\\\\setup.py'\"'\"';f=getattr(tokenize, '\"'\"'open'\"'\"', open)(__file__);code=f.read().replace('\"'\"'\\r\\n'\"'\"', '\"'\"'\\n'\"'\"');f.close();exec(compile(code, __file__, '\"'\"'exec'\"'\"'))' egg_info --egg-base 'C:\\Users\\jcord\\AppData\\Local\\Temp\\pip-pip-egg-info-sf5rztwu'\n",
      "         cwd: C:\\Users\\jcord\\AppData\\Local\\Temp\\pip-install-tvadgay0\\fiona_a2b02d4c67b04d43ac2bc31dbae1b4bf\\\n",
      "    Complete output (1 lines):\n",
      "    A GDAL API version must be specified. Provide a path to gdal-config using a GDAL_CONFIG environment variable or use a GDAL_VERSION environment variable.\n",
      "    ----------------------------------------\n",
      "WARNING: Discarding https://files.pythonhosted.org/packages/25/50/0466d5d83e1859c5ca38351ee932d64cc5635f9d4dad522879e58f4b0018/Fiona-1.8.2.tar.gz#sha256=4c6419b7ac29136708029f6a44b4ccd458735a4d241016c7b1bab41685c08d8f (from https://pypi.org/simple/fiona/). Command errored out with exit status 1: python setup.py egg_info Check the logs for full command output.\n",
      "    ERROR: Command errored out with exit status 1:\n",
      "     command: 'C:\\Users\\jcord\\anaconda3\\python.exe' -c 'import sys, setuptools, tokenize; sys.argv[0] = '\"'\"'C:\\\\Users\\\\jcord\\\\AppData\\\\Local\\\\Temp\\\\pip-install-tvadgay0\\\\fiona_733f57725d4f4da88e55417c53ae4e4f\\\\setup.py'\"'\"'; __file__='\"'\"'C:\\\\Users\\\\jcord\\\\AppData\\\\Local\\\\Temp\\\\pip-install-tvadgay0\\\\fiona_733f57725d4f4da88e55417c53ae4e4f\\\\setup.py'\"'\"';f=getattr(tokenize, '\"'\"'open'\"'\"', open)(__file__);code=f.read().replace('\"'\"'\\r\\n'\"'\"', '\"'\"'\\n'\"'\"');f.close();exec(compile(code, __file__, '\"'\"'exec'\"'\"'))' egg_info --egg-base 'C:\\Users\\jcord\\AppData\\Local\\Temp\\pip-pip-egg-info-mrgnhpk4'\n",
      "         cwd: C:\\Users\\jcord\\AppData\\Local\\Temp\\pip-install-tvadgay0\\fiona_733f57725d4f4da88e55417c53ae4e4f\\\n",
      "    Complete output (1 lines):\n",
      "    A GDAL API version must be specified. Provide a path to gdal-config using a GDAL_CONFIG environment variable or use a GDAL_VERSION environment variable.\n",
      "    ----------------------------------------\n",
      "WARNING: Discarding https://files.pythonhosted.org/packages/3e/5f/0c6704efeea2ff3fba7f54cc6ec38070157f21bc1cffa7bdfa7c9f6b8f7a/Fiona-1.8.1.tar.gz#sha256=4c34bb4c5cd788aaf14e5484c3b7de407b1a8a7c7b2d29bbb2e8b37931e83b8d (from https://pypi.org/simple/fiona/). Command errored out with exit status 1: python setup.py egg_info Check the logs for full command output.\n",
      "    ERROR: Command errored out with exit status 1:\n",
      "     command: 'C:\\Users\\jcord\\anaconda3\\python.exe' -c 'import sys, setuptools, tokenize; sys.argv[0] = '\"'\"'C:\\\\Users\\\\jcord\\\\AppData\\\\Local\\\\Temp\\\\pip-install-tvadgay0\\\\fiona_3acdf73a204c48d1bff615277b5d6d28\\\\setup.py'\"'\"'; __file__='\"'\"'C:\\\\Users\\\\jcord\\\\AppData\\\\Local\\\\Temp\\\\pip-install-tvadgay0\\\\fiona_3acdf73a204c48d1bff615277b5d6d28\\\\setup.py'\"'\"';f=getattr(tokenize, '\"'\"'open'\"'\"', open)(__file__);code=f.read().replace('\"'\"'\\r\\n'\"'\"', '\"'\"'\\n'\"'\"');f.close();exec(compile(code, __file__, '\"'\"'exec'\"'\"'))' egg_info --egg-base 'C:\\Users\\jcord\\AppData\\Local\\Temp\\pip-pip-egg-info-wms2bvjl'\n",
      "         cwd: C:\\Users\\jcord\\AppData\\Local\\Temp\\pip-install-tvadgay0\\fiona_3acdf73a204c48d1bff615277b5d6d28\\\n",
      "    Complete output (1 lines):\n",
      "    A GDAL API version must be specified. Provide a path to gdal-config using a GDAL_CONFIG environment variable or use a GDAL_VERSION environment variable.\n",
      "    ----------------------------------------\n",
      "WARNING: Discarding https://files.pythonhosted.org/packages/2a/bd/c1efc2680f338e5941121c776d6323af6b9698ac739e22ba523cee348a7f/Fiona-1.8.0.tar.gz#sha256=20141a9ece06daa7bb4333fba640c2fe39a49f8aca5492d1da8595d41e91844a (from https://pypi.org/simple/fiona/). Command errored out with exit status 1: python setup.py egg_info Check the logs for full command output.\n",
      "  ERROR: Command errored out with exit status 1:\n",
      "   command: 'C:\\Users\\jcord\\anaconda3\\python.exe' -u -c 'import sys, setuptools, tokenize; sys.argv[0] = '\"'\"'C:\\\\Users\\\\jcord\\\\AppData\\\\Local\\\\Temp\\\\pip-install-tvadgay0\\\\fiona_52f7957094d14fa1833032724a46be28\\\\setup.py'\"'\"'; __file__='\"'\"'C:\\\\Users\\\\jcord\\\\AppData\\\\Local\\\\Temp\\\\pip-install-tvadgay0\\\\fiona_52f7957094d14fa1833032724a46be28\\\\setup.py'\"'\"';f=getattr(tokenize, '\"'\"'open'\"'\"', open)(__file__);code=f.read().replace('\"'\"'\\r\\n'\"'\"', '\"'\"'\\n'\"'\"');f.close();exec(compile(code, __file__, '\"'\"'exec'\"'\"'))' bdist_wheel -d 'C:\\Users\\jcord\\AppData\\Local\\Temp\\pip-wheel-oncvh669'\n",
      "       cwd: C:\\Users\\jcord\\AppData\\Local\\Temp\\pip-install-tvadgay0\\fiona_52f7957094d14fa1833032724a46be28\\\n",
      "  Complete output (42 lines):\n",
      "  C:\\Users\\jcord\\anaconda3\\lib\\distutils\\dist.py:274: UserWarning: Unknown distribution option: 'metadata_version'\n",
      "    warnings.warn(msg)\n",
      "  C:\\Users\\jcord\\anaconda3\\lib\\distutils\\dist.py:274: UserWarning: Unknown distribution option: 'requires_python'\n",
      "    warnings.warn(msg)\n",
      "  C:\\Users\\jcord\\anaconda3\\lib\\distutils\\dist.py:274: UserWarning: Unknown distribution option: 'requires_external'\n",
      "    warnings.warn(msg)\n",
      "  running bdist_wheel\n",
      "  running build\n",
      "  running build_py\n",
      "  creating build\n",
      "  creating build\\lib.win-amd64-3.8\n",
      "  creating build\\lib.win-amd64-3.8\\fiona\n",
      "  copying .\\fiona\\collection.py -> build\\lib.win-amd64-3.8\\fiona\n",
      "  copying .\\fiona\\compat.py -> build\\lib.win-amd64-3.8\\fiona\n",
      "  copying .\\fiona\\crs.py -> build\\lib.win-amd64-3.8\\fiona\n",
      "  copying .\\fiona\\drvsupport.py -> build\\lib.win-amd64-3.8\\fiona\n",
      "  copying .\\fiona\\errors.py -> build\\lib.win-amd64-3.8\\fiona\n",
      "  copying .\\fiona\\inspector.py -> build\\lib.win-amd64-3.8\\fiona\n",
      "  copying .\\fiona\\rfc3339.py -> build\\lib.win-amd64-3.8\\fiona\n",
      "  copying .\\fiona\\tool.py -> build\\lib.win-amd64-3.8\\fiona\n",
      "  copying .\\fiona\\transform.py -> build\\lib.win-amd64-3.8\\fiona\n",
      "  copying .\\fiona\\__init__.py -> build\\lib.win-amd64-3.8\\fiona\n",
      "  creating build\\lib.win-amd64-3.8\\fiona\\fio\n",
      "  copying .\\fiona\\fio\\bounds.py -> build\\lib.win-amd64-3.8\\fiona\\fio\n",
      "  copying .\\fiona\\fio\\calc.py -> build\\lib.win-amd64-3.8\\fiona\\fio\n",
      "  copying .\\fiona\\fio\\cat.py -> build\\lib.win-amd64-3.8\\fiona\\fio\n",
      "  copying .\\fiona\\fio\\collect.py -> build\\lib.win-amd64-3.8\\fiona\\fio\n",
      "  copying .\\fiona\\fio\\distrib.py -> build\\lib.win-amd64-3.8\\fiona\\fio\n",
      "  copying .\\fiona\\fio\\dump.py -> build\\lib.win-amd64-3.8\\fiona\\fio\n",
      "  copying .\\fiona\\fio\\env.py -> build\\lib.win-amd64-3.8\\fiona\\fio\n",
      "  copying .\\fiona\\fio\\filter.py -> build\\lib.win-amd64-3.8\\fiona\\fio\n",
      "  copying .\\fiona\\fio\\helpers.py -> build\\lib.win-amd64-3.8\\fiona\\fio\n",
      "  copying .\\fiona\\fio\\info.py -> build\\lib.win-amd64-3.8\\fiona\\fio\n",
      "  copying .\\fiona\\fio\\insp.py -> build\\lib.win-amd64-3.8\\fiona\\fio\n",
      "  copying .\\fiona\\fio\\load.py -> build\\lib.win-amd64-3.8\\fiona\\fio\n",
      "  copying .\\fiona\\fio\\ls.py -> build\\lib.win-amd64-3.8\\fiona\\fio\n",
      "  copying .\\fiona\\fio\\main.py -> build\\lib.win-amd64-3.8\\fiona\\fio\n",
      "  copying .\\fiona\\fio\\options.py -> build\\lib.win-amd64-3.8\\fiona\\fio\n",
      "  copying .\\fiona\\fio\\__init__.py -> build\\lib.win-amd64-3.8\\fiona\\fio\n",
      "  running build_ext\n",
      "  building 'fiona._transform' extension\n",
      "  error: Microsoft Visual C++ 14.0 or greater is required. Get it with \"Microsoft C++ Build Tools\": https://visualstudio.microsoft.com/visual-cpp-build-tools/\n",
      "  ----------------------------------------\n",
      "  ERROR: Failed building wheel for fiona\n",
      "    ERROR: Command errored out with exit status 1:\n",
      "     command: 'C:\\Users\\jcord\\anaconda3\\python.exe' -u -c 'import sys, setuptools, tokenize; sys.argv[0] = '\"'\"'C:\\\\Users\\\\jcord\\\\AppData\\\\Local\\\\Temp\\\\pip-install-tvadgay0\\\\fiona_52f7957094d14fa1833032724a46be28\\\\setup.py'\"'\"'; __file__='\"'\"'C:\\\\Users\\\\jcord\\\\AppData\\\\Local\\\\Temp\\\\pip-install-tvadgay0\\\\fiona_52f7957094d14fa1833032724a46be28\\\\setup.py'\"'\"';f=getattr(tokenize, '\"'\"'open'\"'\"', open)(__file__);code=f.read().replace('\"'\"'\\r\\n'\"'\"', '\"'\"'\\n'\"'\"');f.close();exec(compile(code, __file__, '\"'\"'exec'\"'\"'))' install --record 'C:\\Users\\jcord\\AppData\\Local\\Temp\\pip-record-cqak8z4n\\install-record.txt' --single-version-externally-managed --compile --install-headers 'C:\\Users\\jcord\\anaconda3\\Include\\fiona'\n",
      "         cwd: C:\\Users\\jcord\\AppData\\Local\\Temp\\pip-install-tvadgay0\\fiona_52f7957094d14fa1833032724a46be28\\\n",
      "    Complete output (12 lines):\n",
      "    C:\\Users\\jcord\\anaconda3\\lib\\distutils\\dist.py:274: UserWarning: Unknown distribution option: 'metadata_version'\n",
      "      warnings.warn(msg)\n",
      "    C:\\Users\\jcord\\anaconda3\\lib\\distutils\\dist.py:274: UserWarning: Unknown distribution option: 'requires_python'\n",
      "      warnings.warn(msg)\n",
      "    C:\\Users\\jcord\\anaconda3\\lib\\distutils\\dist.py:274: UserWarning: Unknown distribution option: 'requires_external'\n",
      "      warnings.warn(msg)\n",
      "    running install\n",
      "    running build\n",
      "    running build_py\n",
      "    running build_ext\n",
      "    building 'fiona._transform' extension\n",
      "    error: Microsoft Visual C++ 14.0 or greater is required. Get it with \"Microsoft C++ Build Tools\": https://visualstudio.microsoft.com/visual-cpp-build-tools/\n",
      "    ----------------------------------------\n",
      "ERROR: Command errored out with exit status 1: 'C:\\Users\\jcord\\anaconda3\\python.exe' -u -c 'import sys, setuptools, tokenize; sys.argv[0] = '\"'\"'C:\\\\Users\\\\jcord\\\\AppData\\\\Local\\\\Temp\\\\pip-install-tvadgay0\\\\fiona_52f7957094d14fa1833032724a46be28\\\\setup.py'\"'\"'; __file__='\"'\"'C:\\\\Users\\\\jcord\\\\AppData\\\\Local\\\\Temp\\\\pip-install-tvadgay0\\\\fiona_52f7957094d14fa1833032724a46be28\\\\setup.py'\"'\"';f=getattr(tokenize, '\"'\"'open'\"'\"', open)(__file__);code=f.read().replace('\"'\"'\\r\\n'\"'\"', '\"'\"'\\n'\"'\"');f.close();exec(compile(code, __file__, '\"'\"'exec'\"'\"'))' install --record 'C:\\Users\\jcord\\AppData\\Local\\Temp\\pip-record-cqak8z4n\\install-record.txt' --single-version-externally-managed --compile --install-headers 'C:\\Users\\jcord\\anaconda3\\Include\\fiona' Check the logs for full command output.\n"
     ]
    }
   ],
   "source": [
    "##!pip install geopandas"
   ]
  },
  {
   "cell_type": "code",
   "execution_count": 7,
   "metadata": {
    "id": "4XtkKP4XJlWx"
   },
   "outputs": [
    {
     "ename": "ModuleNotFoundError",
     "evalue": "No module named 'geopandas'",
     "output_type": "error",
     "traceback": [
      "\u001b[1;31m---------------------------------------------------------------------------\u001b[0m",
      "\u001b[1;31mModuleNotFoundError\u001b[0m                       Traceback (most recent call last)",
      "\u001b[1;32m<ipython-input-7-a62d01c1d62e>\u001b[0m in \u001b[0;36m<module>\u001b[1;34m\u001b[0m\n\u001b[1;32m----> 1\u001b[1;33m \u001b[1;32mimport\u001b[0m \u001b[0mgeopandas\u001b[0m \u001b[1;32mas\u001b[0m \u001b[0mgpd\u001b[0m\u001b[1;33m\u001b[0m\u001b[1;33m\u001b[0m\u001b[0m\n\u001b[0m",
      "\u001b[1;31mModuleNotFoundError\u001b[0m: No module named 'geopandas'"
     ]
    }
   ],
   "source": [
    "import geopandas as gpd"
   ]
  },
  {
   "cell_type": "code",
   "execution_count": null,
   "metadata": {},
   "outputs": [],
   "source": [
    "gpd.read_file()"
   ]
  },
  {
   "cell_type": "code",
   "execution_count": null,
   "metadata": {
    "colab": {
     "base_uri": "https://localhost:8080/"
    },
    "id": "XU_e6VJ7Jp6B",
    "outputId": "4afbe4e2-5576-4a22-990f-3e0ade50948f"
   },
   "outputs": [
    {
     "name": "stdout",
     "output_type": "stream",
     "text": [
      "Cloning into 'Geography'...\n",
      "remote: The requested repository either does not exist or you do not have access. If you believe this repository exists and you have access, make sure you're authenticated.\n",
      "fatal: repository 'https://bitbucket.org/Wolfwhite93/Geography.git/' not found\n"
     ]
    }
   ],
   "source": [
    "###llamar github\n",
    "! git clone https://bitbucket.org/Wolfwhite93/Geography.git"
   ]
  }
 ],
 "metadata": {
  "colab": {
   "name": "Ensayo.ipynb",
   "provenance": []
  },
  "kernelspec": {
   "display_name": "Python 3",
   "language": "python",
   "name": "python3"
  },
  "language_info": {
   "codemirror_mode": {
    "name": "ipython",
    "version": 3
   },
   "file_extension": ".py",
   "mimetype": "text/x-python",
   "name": "python",
   "nbconvert_exporter": "python",
   "pygments_lexer": "ipython3",
   "version": "3.8.10"
  }
 },
 "nbformat": 4,
 "nbformat_minor": 1
}
