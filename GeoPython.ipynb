{
 "cells": [
  {
   "cell_type": "code",
   "execution_count": 1,
   "id": "fbb39e72",
   "metadata": {},
   "outputs": [],
   "source": [
    "#pip install geopy"
   ]
  },
  {
   "cell_type": "code",
   "execution_count": 1,
   "id": "62d03b6c",
   "metadata": {},
   "outputs": [],
   "source": [
    "from geopy.geocoders import Nominatim  ##Puede ser Nominatim, Arcgis, Open street map, etc.\n",
    "from geopy.distance import geodesic\n",
    "from geopy import distance\n",
    "import time\n",
    "import math"
   ]
  },
  {
   "cell_type": "code",
   "execution_count": 2,
   "id": "b06e3243",
   "metadata": {},
   "outputs": [],
   "source": [
    "## Crear un objeto Nominatim\n",
    "geo = Nominatim(user_agent=\"MyApp\")"
   ]
  },
  {
   "cell_type": "markdown",
   "id": "3e64abbb",
   "metadata": {},
   "source": [
    "# Forma 1"
   ]
  },
  {
   "cell_type": "code",
   "execution_count": 43,
   "id": "c0384fd3",
   "metadata": {},
   "outputs": [
    {
     "name": "stdout",
     "output_type": "stream",
     "text": [
      "Yumbel, Provincia de Bío-Bío, Región del Biobío, Chile\n",
      "-37.0978676 -72.5622801\n"
     ]
    }
   ],
   "source": [
    "##Aca se indica cualquier cosa, direccion, comuna, provincia, región, etc\n",
    "loc = geo.geocode(\"Yumbel,Región del Biobio\")\n",
    "print (loc)\n",
    "print (loc.latitude,loc.longitude)"
   ]
  },
  {
   "cell_type": "code",
   "execution_count": 11,
   "id": "e7ee01bc",
   "metadata": {},
   "outputs": [
    {
     "ename": "AttributeError",
     "evalue": "'Nominatim' object has no attribute 'to_csv'",
     "output_type": "error",
     "traceback": [
      "\u001b[1;31m---------------------------------------------------------------------------\u001b[0m",
      "\u001b[1;31mAttributeError\u001b[0m                            Traceback (most recent call last)",
      "\u001b[1;32m<ipython-input-11-0d06cdda72d7>\u001b[0m in \u001b[0;36m<module>\u001b[1;34m\u001b[0m\n\u001b[0;32m      1\u001b[0m \u001b[1;31m##exportar a csv\u001b[0m\u001b[1;33m\u001b[0m\u001b[1;33m\u001b[0m\u001b[1;33m\u001b[0m\u001b[0m\n\u001b[1;32m----> 2\u001b[1;33m \u001b[0mgeo\u001b[0m\u001b[1;33m.\u001b[0m\u001b[0mto_csv\u001b[0m\u001b[1;33m(\u001b[0m\u001b[1;34mf'C:/Users/jcord/OneDrive/Escritorio/Codigos/Mapoteca/descargas/localidades.csv'\u001b[0m\u001b[1;33m)\u001b[0m\u001b[1;33m\u001b[0m\u001b[1;33m\u001b[0m\u001b[0m\n\u001b[0m",
      "\u001b[1;31mAttributeError\u001b[0m: 'Nominatim' object has no attribute 'to_csv'"
     ]
    }
   ],
   "source": [
    "##exportar a csv\n",
    "#geo.to_csv(f'C:/Users/jcord/OneDrive/Escritorio/Codigos/Mapoteca/descargas/localidades.csv')"
   ]
  },
  {
   "cell_type": "markdown",
   "id": "454d5d94",
   "metadata": {},
   "source": [
    "# Forma 2"
   ]
  },
  {
   "cell_type": "code",
   "execution_count": 5,
   "id": "0cdac713",
   "metadata": {},
   "outputs": [
    {
     "name": "stdout",
     "output_type": "stream",
     "text": [
      "Dime un lugar: Santiago\n",
      "Santiago, Cantón Paraíso, Provincia Cartago, 30202, Costa Rica\n",
      "9.8694792 -83.7980749\n"
     ]
    }
   ],
   "source": [
    "##Otra forma de indicar lo anterior\n",
    "X = input(\"Dime un lugar: \")\n",
    "loc = geo.geocode(X)\n",
    "print (loc)\n",
    "print (loc.latitude,loc.longitude)"
   ]
  },
  {
   "cell_type": "markdown",
   "id": "5129478a",
   "metadata": {},
   "source": [
    "# Localización varias ciudades"
   ]
  },
  {
   "cell_type": "code",
   "execution_count": 6,
   "id": "bedee78a",
   "metadata": {},
   "outputs": [],
   "source": [
    "## Generar una raid\n",
    "lugar_list = (\"Sevilla\", \"New York\", \"Paris\", \"Berlin\", \"Rancagua\", \"Concepción\")"
   ]
  },
  {
   "cell_type": "code",
   "execution_count": 7,
   "id": "d4b613d2",
   "metadata": {},
   "outputs": [
    {
     "name": "stdout",
     "output_type": "stream",
     "text": [
      "Ciudad :Sevilla 37.3886303 -5.9953403\n",
      "Ciudad :New York 40.7127281 -74.0060152\n",
      "Ciudad :Paris 48.8566969 2.3514616\n",
      "Ciudad :Berlin 52.5170365 13.3888599\n",
      "Ciudad :Rancagua -34.170249 -70.7407427\n",
      "Ciudad :Concepción -36.8270795 -73.0502399\n"
     ]
    }
   ],
   "source": [
    "## Se genera un bucle para recorrer la lista para solicitar la localización\n",
    "for i in lugar_list:\n",
    "    address = geo.geocode(i,timeout=3) ##el timeoute es para que no se marea, pide el primer lugar y luego espera 3 seg para volver a pedir\n",
    "    print(\"Ciudad :\" + i + \" \" + str(address.latitude) + \" \" + str(address.longitude))\n",
    "    time.sleep(1)"
   ]
  },
  {
   "cell_type": "markdown",
   "id": "71e94bdd",
   "metadata": {},
   "source": [
    "# Distancia entre dos lugares"
   ]
  },
  {
   "cell_type": "code",
   "execution_count": 8,
   "id": "745e4ebd",
   "metadata": {},
   "outputs": [],
   "source": [
    "Barcelona = geo.geocode (\"Barcelona\")\n",
    "Madrid = geo.geocode (\"Madrid\")"
   ]
  },
  {
   "cell_type": "code",
   "execution_count": 9,
   "id": "18ad2ca5",
   "metadata": {},
   "outputs": [
    {
     "name": "stdout",
     "output_type": "stream",
     "text": [
      "(40.4167047, -3.7035825)\n"
     ]
    }
   ],
   "source": [
    "##Necesito las coordenadas para calcular distancia\n",
    "coord_Barcelona=(Barcelona.latitude,Barcelona.longitude)\n",
    "coord_Madrid=(Madrid.latitude,Madrid.longitude)\n",
    "print(coord_Madrid)"
   ]
  },
  {
   "cell_type": "code",
   "execution_count": 10,
   "id": "09fdf3a5",
   "metadata": {},
   "outputs": [],
   "source": [
    "##El codigo de abajo no me resulto\n",
    "##distancia = geopy.distance.distance(coord_Madrid,coord_Barcelona)"
   ]
  },
  {
   "cell_type": "code",
   "execution_count": 11,
   "id": "dacf598d",
   "metadata": {},
   "outputs": [
    {
     "name": "stdout",
     "output_type": "stream",
     "text": [
      "La distancia entre Madrid y Barcelona es de 506.9220157558597 kilometros\n"
     ]
    }
   ],
   "source": [
    "distancia = str(geodesic(coord_Madrid,coord_Barcelona).kilometers)\n",
    "print(\"La distancia entre Madrid y Barcelona es de \" + distancia + \" \"+\"kilometros\")"
   ]
  },
  {
   "cell_type": "markdown",
   "id": "12b5c8b6",
   "metadata": {},
   "source": [
    "# Función para calcular distancia"
   ]
  },
  {
   "cell_type": "code",
   "execution_count": 23,
   "id": "8acd0f19",
   "metadata": {},
   "outputs": [],
   "source": [
    "def distancia(origen,destino) :\n",
    "    lugar_origen=geo.geocode(origen)\n",
    "    lugar_destino=geo.geocode(destino)\n",
    "    \n",
    "    coord_origen = (lugar_origen.latitude,lugar_origen.longitude)\n",
    "    coord_destino = (lugar_destino.latitude,lugar_destino.longitude)\n",
    "    \n",
    "    #dist = geopy.distance.distance(coord_origen,coord_destino)\n",
    "    dist = str(geodesic(coord_origen, coord_destino))\n",
    "    print(\"La distancia entre\"+ \" \" + origen + \" \" + \"y\" + \" \" + destino + \" \" + \"es: \" + str(dist))\n",
    "    \n",
    "    return"
   ]
  },
  {
   "cell_type": "code",
   "execution_count": 26,
   "id": "0911b98d",
   "metadata": {},
   "outputs": [
    {
     "name": "stdout",
     "output_type": "stream",
     "text": [
      "Dime el lugar de origen: Bilbao\n",
      "Dime el lugar de destino: Cadiz\n",
      "La distancia entre Bilbao y Cadiz es: 800.6817566759555 km\n"
     ]
    }
   ],
   "source": [
    "a = input(\"Dime el lugar de origen: \")\n",
    "b = input(\"Dime el lugar de destino: \")\n",
    "\n",
    "distancia(a,b)"
   ]
  }
 ],
 "metadata": {
  "kernelspec": {
   "display_name": "Python 3",
   "language": "python",
   "name": "python3"
  },
  "language_info": {
   "codemirror_mode": {
    "name": "ipython",
    "version": 3
   },
   "file_extension": ".py",
   "mimetype": "text/x-python",
   "name": "python",
   "nbconvert_exporter": "python",
   "pygments_lexer": "ipython3",
   "version": "3.8.5"
  }
 },
 "nbformat": 4,
 "nbformat_minor": 5
}
