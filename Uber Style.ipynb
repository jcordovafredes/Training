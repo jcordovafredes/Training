{
 "cells": [
  {
   "cell_type": "code",
   "execution_count": 1,
   "id": "69a397c7",
   "metadata": {},
   "outputs": [
    {
     "name": "stdout",
     "output_type": "stream",
     "text": [
      "Requirement already satisfied: keplergl in c:\\users\\jcord\\anaconda3\\lib\\site-packages (0.3.0)Note: you may need to restart the kernel to use updated packages.\n",
      "Requirement already satisfied: Shapely>=1.6.4.post2 in c:\\users\\jcord\\anaconda3\\lib\\site-packages (from keplergl) (1.7.1)\n",
      "Requirement already satisfied: pandas>=0.23.0 in c:\\users\\jcord\\anaconda3\\lib\\site-packages (from keplergl) (1.2.5)\n",
      "Requirement already satisfied: ipywidgets<8,>=7.0.0 in c:\\users\\jcord\\anaconda3\\lib\\site-packages (from keplergl) (7.6.3)\n",
      "Requirement already satisfied: traittypes>=0.2.1 in c:\\users\\jcord\\anaconda3\\lib\\site-packages (from keplergl) (0.2.1)\n",
      "Requirement already satisfied: geopandas>=0.5.0 in c:\\users\\jcord\\anaconda3\\lib\\site-packages (from keplergl) (0.9.0)\n",
      "Requirement already satisfied: pyproj>=2.2.0 in c:\\users\\jcord\\anaconda3\\lib\\site-packages (from geopandas>=0.5.0->keplergl) (3.1.0)\n",
      "Requirement already satisfied: fiona>=1.8 in c:\\users\\jcord\\anaconda3\\lib\\site-packages (from geopandas>=0.5.0->keplergl) (1.8.20)\n",
      "Requirement already satisfied: certifi in c:\\users\\jcord\\anaconda3\\lib\\site-packages (from fiona>=1.8->geopandas>=0.5.0->keplergl) (2021.5.30)\n",
      "Requirement already satisfied: gdal~=3.3.0 in c:\\users\\jcord\\anaconda3\\lib\\site-packages (from fiona>=1.8->geopandas>=0.5.0->keplergl) (3.3.0)\n",
      "Requirement already satisfied: six>=1.7 in c:\\users\\jcord\\anaconda3\\lib\\site-packages (from fiona>=1.8->geopandas>=0.5.0->keplergl) (1.16.0)\n",
      "Requirement already satisfied: attrs>=17 in c:\\users\\jcord\\anaconda3\\lib\\site-packages (from fiona>=1.8->geopandas>=0.5.0->keplergl) (21.2.0)\n",
      "Requirement already satisfied: click-plugins>=1.0 in c:\\users\\jcord\\anaconda3\\lib\\site-packages (from fiona>=1.8->geopandas>=0.5.0->keplergl) (1.1.1)\n",
      "Requirement already satisfied: munch in c:\\users\\jcord\\anaconda3\\lib\\site-packages (from fiona>=1.8->geopandas>=0.5.0->keplergl) (2.5.0)\n",
      "Requirement already satisfied: setuptools in c:\\users\\jcord\\anaconda3\\lib\\site-packages (from fiona>=1.8->geopandas>=0.5.0->keplergl) (52.0.0.post20210125)\n",
      "\n",
      "Requirement already satisfied: click>=4.0 in c:\\users\\jcord\\anaconda3\\lib\\site-packages (from fiona>=1.8->geopandas>=0.5.0->keplergl) (7.1.2)\n",
      "Requirement already satisfied: cligj>=0.5 in c:\\users\\jcord\\anaconda3\\lib\\site-packages (from fiona>=1.8->geopandas>=0.5.0->keplergl) (0.7.2)\n",
      "Requirement already satisfied: jupyterlab-widgets>=1.0.0 in c:\\users\\jcord\\anaconda3\\lib\\site-packages (from ipywidgets<8,>=7.0.0->keplergl) (1.0.0)\n",
      "Requirement already satisfied: ipython>=4.0.0 in c:\\users\\jcord\\anaconda3\\lib\\site-packages (from ipywidgets<8,>=7.0.0->keplergl) (7.22.0)\n",
      "Requirement already satisfied: ipykernel>=4.5.1 in c:\\users\\jcord\\anaconda3\\lib\\site-packages (from ipywidgets<8,>=7.0.0->keplergl) (5.3.4)\n",
      "Requirement already satisfied: traitlets>=4.3.1 in c:\\users\\jcord\\anaconda3\\lib\\site-packages (from ipywidgets<8,>=7.0.0->keplergl) (5.0.5)\n",
      "Requirement already satisfied: nbformat>=4.2.0 in c:\\users\\jcord\\anaconda3\\lib\\site-packages (from ipywidgets<8,>=7.0.0->keplergl) (5.1.3)\n",
      "Requirement already satisfied: widgetsnbextension~=3.5.0 in c:\\users\\jcord\\anaconda3\\lib\\site-packages (from ipywidgets<8,>=7.0.0->keplergl) (3.5.1)\n",
      "Requirement already satisfied: tornado>=4.2 in c:\\users\\jcord\\anaconda3\\lib\\site-packages (from ipykernel>=4.5.1->ipywidgets<8,>=7.0.0->keplergl) (6.1)\n",
      "Requirement already satisfied: jupyter-client in c:\\users\\jcord\\anaconda3\\lib\\site-packages (from ipykernel>=4.5.1->ipywidgets<8,>=7.0.0->keplergl) (6.1.12)\n",
      "Requirement already satisfied: colorama in c:\\users\\jcord\\anaconda3\\lib\\site-packages (from ipython>=4.0.0->ipywidgets<8,>=7.0.0->keplergl) (0.4.4)\n",
      "Requirement already satisfied: pygments in c:\\users\\jcord\\anaconda3\\lib\\site-packages (from ipython>=4.0.0->ipywidgets<8,>=7.0.0->keplergl) (2.9.0)\n",
      "Requirement already satisfied: decorator in c:\\users\\jcord\\anaconda3\\lib\\site-packages (from ipython>=4.0.0->ipywidgets<8,>=7.0.0->keplergl) (4.4.2)\n",
      "Requirement already satisfied: jedi>=0.16 in c:\\users\\jcord\\anaconda3\\lib\\site-packages (from ipython>=4.0.0->ipywidgets<8,>=7.0.0->keplergl) (0.17.2)\n",
      "Requirement already satisfied: pickleshare in c:\\users\\jcord\\anaconda3\\lib\\site-packages (from ipython>=4.0.0->ipywidgets<8,>=7.0.0->keplergl) (0.7.5)\n",
      "Requirement already satisfied: prompt-toolkit!=3.0.0,!=3.0.1,<3.1.0,>=2.0.0 in c:\\users\\jcord\\anaconda3\\lib\\site-packages (from ipython>=4.0.0->ipywidgets<8,>=7.0.0->keplergl) (3.0.17)\n",
      "Requirement already satisfied: backcall in c:\\users\\jcord\\anaconda3\\lib\\site-packages (from ipython>=4.0.0->ipywidgets<8,>=7.0.0->keplergl) (0.2.0)\n",
      "Requirement already satisfied: parso<0.8.0,>=0.7.0 in c:\\users\\jcord\\anaconda3\\lib\\site-packages (from jedi>=0.16->ipython>=4.0.0->ipywidgets<8,>=7.0.0->keplergl) (0.7.0)\n",
      "Requirement already satisfied: ipython-genutils in c:\\users\\jcord\\anaconda3\\lib\\site-packages (from nbformat>=4.2.0->ipywidgets<8,>=7.0.0->keplergl) (0.2.0)\n",
      "Requirement already satisfied: jupyter-core in c:\\users\\jcord\\anaconda3\\lib\\site-packages (from nbformat>=4.2.0->ipywidgets<8,>=7.0.0->keplergl) (4.7.1)\n",
      "Requirement already satisfied: jsonschema!=2.5.0,>=2.4 in c:\\users\\jcord\\anaconda3\\lib\\site-packages (from nbformat>=4.2.0->ipywidgets<8,>=7.0.0->keplergl) (3.2.0)\n",
      "Requirement already satisfied: pyrsistent>=0.14.0 in c:\\users\\jcord\\anaconda3\\lib\\site-packages (from jsonschema!=2.5.0,>=2.4->nbformat>=4.2.0->ipywidgets<8,>=7.0.0->keplergl) (0.17.3)\n",
      "Requirement already satisfied: pytz>=2017.3 in c:\\users\\jcord\\anaconda3\\lib\\site-packages (from pandas>=0.23.0->keplergl) (2021.1)\n",
      "Requirement already satisfied: numpy>=1.16.5 in c:\\users\\jcord\\anaconda3\\lib\\site-packages (from pandas>=0.23.0->keplergl) (1.20.2)\n",
      "Requirement already satisfied: python-dateutil>=2.7.3 in c:\\users\\jcord\\anaconda3\\lib\\site-packages (from pandas>=0.23.0->keplergl) (2.8.1)\n",
      "Requirement already satisfied: wcwidth in c:\\users\\jcord\\anaconda3\\lib\\site-packages (from prompt-toolkit!=3.0.0,!=3.0.1,<3.1.0,>=2.0.0->ipython>=4.0.0->ipywidgets<8,>=7.0.0->keplergl) (0.2.5)\n",
      "Requirement already satisfied: notebook>=4.4.1 in c:\\users\\jcord\\anaconda3\\lib\\site-packages (from widgetsnbextension~=3.5.0->ipywidgets<8,>=7.0.0->keplergl) (6.4.0)\n",
      "Requirement already satisfied: pyzmq>=17 in c:\\users\\jcord\\anaconda3\\lib\\site-packages (from notebook>=4.4.1->widgetsnbextension~=3.5.0->ipywidgets<8,>=7.0.0->keplergl) (20.0.0)\n",
      "Requirement already satisfied: terminado>=0.8.3 in c:\\users\\jcord\\anaconda3\\lib\\site-packages (from notebook>=4.4.1->widgetsnbextension~=3.5.0->ipywidgets<8,>=7.0.0->keplergl) (0.9.4)\n",
      "Requirement already satisfied: jinja2 in c:\\users\\jcord\\anaconda3\\lib\\site-packages (from notebook>=4.4.1->widgetsnbextension~=3.5.0->ipywidgets<8,>=7.0.0->keplergl) (3.0.1)\n",
      "Requirement already satisfied: Send2Trash>=1.5.0 in c:\\users\\jcord\\anaconda3\\lib\\site-packages (from notebook>=4.4.1->widgetsnbextension~=3.5.0->ipywidgets<8,>=7.0.0->keplergl) (1.5.0)\n",
      "Requirement already satisfied: nbconvert in c:\\users\\jcord\\anaconda3\\lib\\site-packages (from notebook>=4.4.1->widgetsnbextension~=3.5.0->ipywidgets<8,>=7.0.0->keplergl) (6.1.0)\n",
      "Requirement already satisfied: argon2-cffi in c:\\users\\jcord\\anaconda3\\lib\\site-packages (from notebook>=4.4.1->widgetsnbextension~=3.5.0->ipywidgets<8,>=7.0.0->keplergl) (20.1.0)\n",
      "Requirement already satisfied: prometheus-client in c:\\users\\jcord\\anaconda3\\lib\\site-packages (from notebook>=4.4.1->widgetsnbextension~=3.5.0->ipywidgets<8,>=7.0.0->keplergl) (0.11.0)\n",
      "Requirement already satisfied: pywin32>=1.0 in c:\\users\\jcord\\anaconda3\\lib\\site-packages (from jupyter-core->nbformat>=4.2.0->ipywidgets<8,>=7.0.0->keplergl) (227)\n",
      "Requirement already satisfied: pywinpty>=0.5 in c:\\users\\jcord\\anaconda3\\lib\\site-packages (from terminado>=0.8.3->notebook>=4.4.1->widgetsnbextension~=3.5.0->ipywidgets<8,>=7.0.0->keplergl) (0.5.7)\n",
      "Requirement already satisfied: cffi>=1.0.0 in c:\\users\\jcord\\anaconda3\\lib\\site-packages (from argon2-cffi->notebook>=4.4.1->widgetsnbextension~=3.5.0->ipywidgets<8,>=7.0.0->keplergl) (1.14.5)\n",
      "Requirement already satisfied: pycparser in c:\\users\\jcord\\anaconda3\\lib\\site-packages (from cffi>=1.0.0->argon2-cffi->notebook>=4.4.1->widgetsnbextension~=3.5.0->ipywidgets<8,>=7.0.0->keplergl) (2.20)\n",
      "Requirement already satisfied: MarkupSafe>=2.0 in c:\\users\\jcord\\anaconda3\\lib\\site-packages (from jinja2->notebook>=4.4.1->widgetsnbextension~=3.5.0->ipywidgets<8,>=7.0.0->keplergl) (2.0.1)\n",
      "Requirement already satisfied: defusedxml in c:\\users\\jcord\\anaconda3\\lib\\site-packages (from nbconvert->notebook>=4.4.1->widgetsnbextension~=3.5.0->ipywidgets<8,>=7.0.0->keplergl) (0.7.1)\n",
      "Requirement already satisfied: testpath in c:\\users\\jcord\\anaconda3\\lib\\site-packages (from nbconvert->notebook>=4.4.1->widgetsnbextension~=3.5.0->ipywidgets<8,>=7.0.0->keplergl) (0.5.0)\n",
      "Requirement already satisfied: jupyterlab-pygments in c:\\users\\jcord\\anaconda3\\lib\\site-packages (from nbconvert->notebook>=4.4.1->widgetsnbextension~=3.5.0->ipywidgets<8,>=7.0.0->keplergl) (0.1.2)\n",
      "Requirement already satisfied: nbclient<0.6.0,>=0.5.0 in c:\\users\\jcord\\anaconda3\\lib\\site-packages (from nbconvert->notebook>=4.4.1->widgetsnbextension~=3.5.0->ipywidgets<8,>=7.0.0->keplergl) (0.5.3)\n",
      "Requirement already satisfied: bleach in c:\\users\\jcord\\anaconda3\\lib\\site-packages (from nbconvert->notebook>=4.4.1->widgetsnbextension~=3.5.0->ipywidgets<8,>=7.0.0->keplergl) (3.3.0)\n",
      "Requirement already satisfied: entrypoints>=0.2.2 in c:\\users\\jcord\\anaconda3\\lib\\site-packages (from nbconvert->notebook>=4.4.1->widgetsnbextension~=3.5.0->ipywidgets<8,>=7.0.0->keplergl) (0.3)\n",
      "Requirement already satisfied: pandocfilters>=1.4.1 in c:\\users\\jcord\\anaconda3\\lib\\site-packages (from nbconvert->notebook>=4.4.1->widgetsnbextension~=3.5.0->ipywidgets<8,>=7.0.0->keplergl) (1.4.3)\n",
      "Requirement already satisfied: mistune<2,>=0.8.1 in c:\\users\\jcord\\anaconda3\\lib\\site-packages (from nbconvert->notebook>=4.4.1->widgetsnbextension~=3.5.0->ipywidgets<8,>=7.0.0->keplergl) (0.8.4)\n",
      "Requirement already satisfied: async-generator in c:\\users\\jcord\\anaconda3\\lib\\site-packages (from nbclient<0.6.0,>=0.5.0->nbconvert->notebook>=4.4.1->widgetsnbextension~=3.5.0->ipywidgets<8,>=7.0.0->keplergl) (1.10)\n"
     ]
    },
    {
     "name": "stdout",
     "output_type": "stream",
     "text": [
      "Requirement already satisfied: nest-asyncio in c:\\users\\jcord\\anaconda3\\lib\\site-packages (from nbclient<0.6.0,>=0.5.0->nbconvert->notebook>=4.4.1->widgetsnbextension~=3.5.0->ipywidgets<8,>=7.0.0->keplergl) (1.5.1)\n",
      "Requirement already satisfied: webencodings in c:\\users\\jcord\\anaconda3\\lib\\site-packages (from bleach->nbconvert->notebook>=4.4.1->widgetsnbextension~=3.5.0->ipywidgets<8,>=7.0.0->keplergl) (0.5.1)\n",
      "Requirement already satisfied: packaging in c:\\users\\jcord\\anaconda3\\lib\\site-packages (from bleach->nbconvert->notebook>=4.4.1->widgetsnbextension~=3.5.0->ipywidgets<8,>=7.0.0->keplergl) (20.9)\n",
      "Requirement already satisfied: pyparsing>=2.0.2 in c:\\users\\jcord\\anaconda3\\lib\\site-packages (from packaging->bleach->nbconvert->notebook>=4.4.1->widgetsnbextension~=3.5.0->ipywidgets<8,>=7.0.0->keplergl) (2.4.7)\n"
     ]
    }
   ],
   "source": [
    "pip install keplergl"
   ]
  },
  {
   "cell_type": "code",
   "execution_count": 2,
   "id": "26370f93",
   "metadata": {},
   "outputs": [
    {
     "name": "stdout",
     "output_type": "stream",
     "text": [
      "User Guide: https://docs.kepler.gl/docs/keplergl-jupyter\n"
     ]
    },
    {
     "data": {
      "application/vnd.jupyter.widget-view+json": {
       "model_id": "9597ab2d1475403aadb178b3cd1d8b5a",
       "version_major": 2,
       "version_minor": 0
      },
      "text/plain": [
       "KeplerGl()"
      ]
     },
     "metadata": {},
     "output_type": "display_data"
    }
   ],
   "source": [
    "##Datos para usar Keplergl\n",
    "# Load an empty map\n",
    "from keplergl import KeplerGl\n",
    "map_1 = KeplerGl()\n",
    "map_1"
   ]
  },
  {
   "cell_type": "code",
   "execution_count": null,
   "id": "1f772e76",
   "metadata": {},
   "outputs": [],
   "source": []
  }
 ],
 "metadata": {
  "kernelspec": {
   "display_name": "Python 3",
   "language": "python",
   "name": "python3"
  },
  "language_info": {
   "codemirror_mode": {
    "name": "ipython",
    "version": 3
   },
   "file_extension": ".py",
   "mimetype": "text/x-python",
   "name": "python",
   "nbconvert_exporter": "python",
   "pygments_lexer": "ipython3",
   "version": "3.8.10"
  }
 },
 "nbformat": 4,
 "nbformat_minor": 5
}
