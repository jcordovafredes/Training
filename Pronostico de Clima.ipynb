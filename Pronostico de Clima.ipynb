{
 "cells": [
  {
   "cell_type": "code",
   "execution_count": 1,
   "id": "a8534d91",
   "metadata": {},
   "outputs": [],
   "source": [
    "import requests,json"
   ]
  },
  {
   "cell_type": "code",
   "execution_count": 2,
   "id": "71bfce4e",
   "metadata": {},
   "outputs": [],
   "source": [
    "api_key = 'Your_API_Key' ##Va la API KEY ac95bade49389ac6dbf8e490da038c38"
   ]
  },
  {
   "cell_type": "code",
   "execution_count": 3,
   "id": "0186d017",
   "metadata": {},
   "outputs": [],
   "source": [
    "base_url = 'http://api.openweathermap.org/data/2.5/weather?'"
   ]
  },
  {
   "cell_type": "code",
   "execution_count": 4,
   "id": "6a201999",
   "metadata": {},
   "outputs": [
    {
     "name": "stdout",
     "output_type": "stream",
     "text": [
      "Enter yout city :Delhi\n"
     ]
    }
   ],
   "source": [
    "city_name = input(\"Enter yout city :\") ##Aca va el nombre de la ciudad"
   ]
  },
  {
   "cell_type": "code",
   "execution_count": 12,
   "id": "702e3d5c",
   "metadata": {},
   "outputs": [],
   "source": [
    "complete_url = base_url + \"appid=\" + api_key + \"&q=\" + city_name"
   ]
  },
  {
   "cell_type": "code",
   "execution_count": 13,
   "id": "43efab2b",
   "metadata": {},
   "outputs": [],
   "source": [
    "response = requests.get(complete_url)"
   ]
  },
  {
   "cell_type": "code",
   "execution_count": 14,
   "id": "0fb6b01b",
   "metadata": {},
   "outputs": [],
   "source": [
    "x = response.json()"
   ]
  },
  {
   "cell_type": "code",
   "execution_count": 8,
   "id": "174f510a",
   "metadata": {},
   "outputs": [],
   "source": [
    "#confirmar el tipo de X\n",
    "#print(type(x))"
   ]
  },
  {
   "cell_type": "code",
   "execution_count": 9,
   "id": "3281a88d",
   "metadata": {},
   "outputs": [],
   "source": [
    "#print(list(x.keys()))"
   ]
  },
  {
   "cell_type": "code",
   "execution_count": 10,
   "id": "681f10fc",
   "metadata": {},
   "outputs": [],
   "source": [
    "#print(x)"
   ]
  },
  {
   "cell_type": "code",
   "execution_count": 15,
   "id": "9fac256d",
   "metadata": {},
   "outputs": [
    {
     "ename": "KeyError",
     "evalue": "'main'",
     "output_type": "error",
     "traceback": [
      "\u001b[1;31m---------------------------------------------------------------------------\u001b[0m",
      "\u001b[1;31mKeyError\u001b[0m                                  Traceback (most recent call last)",
      "\u001b[1;32m<ipython-input-15-b78849103a48>\u001b[0m in \u001b[0;36m<module>\u001b[1;34m\u001b[0m\n\u001b[0;32m      1\u001b[0m \u001b[1;32mif\u001b[0m \u001b[0mx\u001b[0m\u001b[1;33m[\u001b[0m\u001b[1;34m\"cod\"\u001b[0m\u001b[1;33m]\u001b[0m \u001b[1;33m!=\u001b[0m \u001b[1;34m\"404\"\u001b[0m\u001b[1;33m:\u001b[0m\u001b[1;33m\u001b[0m\u001b[1;33m\u001b[0m\u001b[0m\n\u001b[1;32m----> 2\u001b[1;33m      \u001b[0my\u001b[0m \u001b[1;33m=\u001b[0m \u001b[0mx\u001b[0m\u001b[1;33m[\u001b[0m\u001b[1;34m\"main\"\u001b[0m\u001b[1;33m]\u001b[0m\u001b[1;33m\u001b[0m\u001b[1;33m\u001b[0m\u001b[0m\n\u001b[0m\u001b[0;32m      3\u001b[0m      \u001b[0mcurrent_temperature\u001b[0m \u001b[1;33m=\u001b[0m \u001b[0my\u001b[0m\u001b[1;33m[\u001b[0m\u001b[1;34m\"temp\"\u001b[0m\u001b[1;33m]\u001b[0m\u001b[1;33m\u001b[0m\u001b[1;33m\u001b[0m\u001b[0m\n\u001b[0;32m      4\u001b[0m      \u001b[0mcurrent_pressure\u001b[0m \u001b[1;33m=\u001b[0m \u001b[0my\u001b[0m\u001b[1;33m[\u001b[0m\u001b[1;34m\"pressure\"\u001b[0m\u001b[1;33m]\u001b[0m\u001b[1;33m\u001b[0m\u001b[1;33m\u001b[0m\u001b[0m\n\u001b[0;32m      5\u001b[0m      \u001b[0mcurrent_humidity\u001b[0m \u001b[1;33m=\u001b[0m \u001b[0my\u001b[0m\u001b[1;33m[\u001b[0m\u001b[1;34m\"humidity\"\u001b[0m\u001b[1;33m]\u001b[0m\u001b[1;33m\u001b[0m\u001b[1;33m\u001b[0m\u001b[0m\n",
      "\u001b[1;31mKeyError\u001b[0m: 'main'"
     ]
    }
   ],
   "source": [
    "if x[\"cod\"] != \"404\":\n",
    "     y = x[\"main\"]\n",
    "     current_temperature = y[\"temp\"]\n",
    "     current_pressure = y[\"pressure\"]\n",
    "     current_humidity = y[\"humidity\"]"
   ]
  },
  {
   "cell_type": "code",
   "execution_count": null,
   "id": "0e7ad0aa",
   "metadata": {},
   "outputs": [],
   "source": [
    "    ##y = x[\"main\"]"
   ]
  },
  {
   "cell_type": "code",
   "execution_count": null,
   "id": "65046598",
   "metadata": {},
   "outputs": [],
   "source": [
    "    ##current_temperature = y[\"temp\"]"
   ]
  },
  {
   "cell_type": "code",
   "execution_count": null,
   "id": "2cbb120c",
   "metadata": {},
   "outputs": [],
   "source": [
    "    ##current_pressure = y[\"pressure\"]"
   ]
  },
  {
   "cell_type": "code",
   "execution_count": null,
   "id": "4b67001d",
   "metadata": {},
   "outputs": [],
   "source": [
    "    ##current_humidity = y[\"humidity\"]"
   ]
  },
  {
   "cell_type": "code",
   "execution_count": null,
   "id": "a2435a8d",
   "metadata": {},
   "outputs": [],
   "source": [
    "    z = x[\"weather\"]"
   ]
  },
  {
   "cell_type": "code",
   "execution_count": null,
   "id": "35ba1922",
   "metadata": {},
   "outputs": [],
   "source": [
    "    weather_description = z[0][\"description\"]"
   ]
  },
  {
   "cell_type": "code",
   "execution_count": null,
   "id": "75e606fe",
   "metadata": {},
   "outputs": [],
   "source": [
    "    print(\"Temperature (in kelvin unit) = \" + str(current_temperature) + \n",
    "         \"\\n atmospheric pressure (in hPa unit) = \" + str(current pressure)\n",
    "         + \"\\n humidity (in percentage) = \" + str(current_humidity) + \n",
    "         \"\\n description = \" + str(weather_description))"
   ]
  },
  {
   "cell_type": "code",
   "execution_count": null,
   "id": "eff3dd33",
   "metadata": {},
   "outputs": [],
   "source": [
    "else:"
   ]
  },
  {
   "cell_type": "code",
   "execution_count": null,
   "id": "3713c00f",
   "metadata": {},
   "outputs": [],
   "source": [
    "print (\"Santiago\")"
   ]
  }
 ],
 "metadata": {
  "kernelspec": {
   "display_name": "Python 3",
   "language": "python",
   "name": "python3"
  },
  "language_info": {
   "codemirror_mode": {
    "name": "ipython",
    "version": 3
   },
   "file_extension": ".py",
   "mimetype": "text/x-python",
   "name": "python",
   "nbconvert_exporter": "python",
   "pygments_lexer": "ipython3",
   "version": "3.8.10"
  }
 },
 "nbformat": 4,
 "nbformat_minor": 5
}
