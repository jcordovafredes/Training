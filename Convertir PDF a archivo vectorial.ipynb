{
 "cells": [
  {
   "cell_type": "code",
   "execution_count": null,
   "id": "f5ac8643",
   "metadata": {},
   "outputs": [],
   "source": [
    "%matplotlib inline\n",
    "\n",
    "import geopandas as gpd\n",
    "\n",
    "#open the DXF file\n",
    "plano = gpd.read_file('../Dxf/Plano_Ccamacmayo.dxf')\n",
    "plano.plot(figsize=(20,40))\n",
    "geometryScaled = plano.scale(6.632545,6.632545,1,origin=(0,0,0))\n",
    "geometryTranslated = geometryScaled.translate(247044.404,8347561.266,0)\n",
    "\n",
    "#apply the new geometry to the geopandas dataframe and apply the EPSG cpde\n",
    "plano = gpd.GeoDataFrame(plano, geometry=geometryTranslated)\n",
    "plano.crs = {'init':'epsg:32719'}\n",
    "plano.plot(figsize=(20,40))\n",
    "\n",
    "#filter only the line elements\n",
    "planoLines = plano[plano.geometry.type=='LineString']\n",
    "\n",
    "#export the spatial as shapefile\n",
    "planoLines.to_file('../Shps/Dxf_Total.shp'"
   ]
  }
 ],
 "metadata": {
  "kernelspec": {
   "display_name": "Python 3",
   "language": "python",
   "name": "python3"
  },
  "language_info": {
   "codemirror_mode": {
    "name": "ipython",
    "version": 3
   },
   "file_extension": ".py",
   "mimetype": "text/x-python",
   "name": "python",
   "nbconvert_exporter": "python",
   "pygments_lexer": "ipython3",
   "version": "3.8.10"
  }
 },
 "nbformat": 4,
 "nbformat_minor": 5
}
