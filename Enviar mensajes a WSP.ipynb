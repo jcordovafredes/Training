{
 "cells": [
  {
   "cell_type": "code",
   "execution_count": 1,
   "id": "547194dc",
   "metadata": {},
   "outputs": [],
   "source": [
    "import pywhatkit as wsp"
   ]
  },
  {
   "cell_type": "code",
   "execution_count": null,
   "id": "3d0644f2",
   "metadata": {},
   "outputs": [
    {
     "name": "stdout",
     "output_type": "stream",
     "text": [
      "In 43 seconds web.whatsapp.com will open and after 20 seconds message will be delivered\n"
     ]
    }
   ],
   "source": [
    "wsp.sendwhatmsg('+56921137445', 'Hola, como estas?', 13,24)"
   ]
  }
 ],
 "metadata": {
  "kernelspec": {
   "display_name": "Python 3",
   "language": "python",
   "name": "python3"
  },
  "language_info": {
   "codemirror_mode": {
    "name": "ipython",
    "version": 3
   },
   "file_extension": ".py",
   "mimetype": "text/x-python",
   "name": "python",
   "nbconvert_exporter": "python",
   "pygments_lexer": "ipython3",
   "version": "3.8.10"
  }
 },
 "nbformat": 4,
 "nbformat_minor": 5
}
